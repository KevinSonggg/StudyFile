{
 "cells": [
  {
   "cell_type": "markdown",
   "metadata": {},
   "source": [
    "# Kevin Python Notes\n",
    "\n",
    "### 1. Basic Definations\n",
    "\n",
    "1.Tuple\n",
    "* A series of value like list\n",
    "* immutable\n",
    "* `x = (1,2,3,4)`\n",
    "    \n",
    "    \n",
    "\n",
    "### 2. Functions\n",
    "#### 1.Independent functions\n",
    "1.Zip\n",
    "\n",
    "2.Range\n",
    "* notice: the higher end doesn't include that number\n",
    "* `range(1,5)` is 1,2,3,4, no 5\n",
    "\n",
    "3.set()\n",
    "* return a series of unique value\n",
    "* output type is set\n",
    "* set can be used to compare: `{'1','2','3'} > {'1','2'}`\n",
    "\n",
    "4.print()\n",
    "* string `' '` used together with * can reproduce that string x times\n",
    "* `\\n` is change line like `print('x'+'\\ny')` or `print('x'+'\\n'+'y')`\n",
    "* notice: in `print()` function, comma is not same as +: `print('x','y')` >> `x y` `print('x'+'y')` >> `xy`\n",
    "\n",
    "5.map(func,iterables)\n",
    "* apply function inside map() to all iterables\n",
    "\n",
    " \n",
    "#### 2.Variable dependent functions (Object)\n",
    "##### 1.Method\n",
    "1.x.isupper() / x.islower()\n",
    "* `' '` is neither upper nor lower\n",
    "\n",
    "2.x.replace(_find_,_replace with_)\n",
    "* if looking for delete leading and ending space, use `x.strip()`\n",
    "* if looking for delete duplicated space, use `' '.join(x.split())`\n",
    "\n",
    "3._string_.join()\n",
    "\n",
    "4.x.pop()\n",
    "\n",
    "5._string_.startswith('')\n",
    "* check function, return True / False\n",
    "\n",
    "##### 2.Special Function (for class)\n",
    "1.`__str__(self)`\n",
    "* Work for `str()`, `print()`\n",
    "\n",
    "2.`__len__(self)`\n",
    "* Work for `len()`\n",
    "\n",
    "3.`__del__(self)`\n",
    "* Work for `del`\n",
    "\n",
    "### 3.Data Manipulation\n",
    "1.List / String / Tuple component selection\n",
    "* `x[start:end:step]`\n",
    "* if not specify start or end means all\n",
    "* step can be negative number means rever sequence \n",
    "* `Ex: x[::-1]` reverse x sequence\n",
    "\n",
    "### 4.Wrting Tricks\n",
    "1.Cumulative add / mutiple\n",
    "* `a += 1` add 1 to a\n",
    "* `a *= 2` multiple 2 to a\n",
    "\n",
    "2.Duplicate strings / variables\n",
    "* star can be applied to either generate duplicate strings 'a' * 5 >> 'aaaaa' or duplicate list / tuple\n",
    "\n",
    "### 5.Practice questions\n",
    "1.Module & function\n",
    "* pangram string: \n",
    "    * Write a Python function to check whether a string is pangram or not.\n",
    "    * Note : Pangrams are words or sentences containing every letter of the alphabet at least once.\n",
    "    * For example : \"The quick brown fox jumps over the lazy dog\"\n",
    "    * Key: `set()`, module string\n"
   ]
  },
  {
   "cell_type": "code",
   "execution_count": 1,
   "metadata": {},
   "outputs": [
    {
     "data": {
      "text/plain": [
       "True"
      ]
     },
     "execution_count": 1,
     "metadata": {},
     "output_type": "execute_result"
    }
   ],
   "source": [
    "import string\n",
    "\n",
    "def ispangram(str1, alphabet=string.ascii_lowercase):  \n",
    "    alphaset = set(alphabet)  \n",
    "    return alphaset <= set(str1.lower())\n",
    "\n",
    "ispangram(\"The quick brown fox jumps over the lazy dog\")"
   ]
  }
 ],
 "metadata": {
  "kernelspec": {
   "display_name": "Python 3",
   "language": "python",
   "name": "python3"
  },
  "language_info": {
   "codemirror_mode": {
    "name": "ipython",
    "version": 3
   },
   "file_extension": ".py",
   "mimetype": "text/x-python",
   "name": "python",
   "nbconvert_exporter": "python",
   "pygments_lexer": "ipython3",
   "version": "3.6.4"
  }
 },
 "nbformat": 4,
 "nbformat_minor": 2
}
