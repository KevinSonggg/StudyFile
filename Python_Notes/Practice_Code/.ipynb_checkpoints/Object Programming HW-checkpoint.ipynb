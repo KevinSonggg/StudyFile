{
 "cells": [
  {
   "cell_type": "markdown",
   "metadata": {},
   "source": [
    "# Object Oriented Programming Homework"
   ]
  },
  {
   "cell_type": "code",
   "execution_count": null,
   "metadata": {},
   "outputs": [],
   "source": [
    "class Account(): ## Object name\n",
    "    \n",
    "    def __init__(self,owner,balance): ## initiative with variable owner & balance\n",
    "        \n",
    "        self.owner = owner\n",
    "        self.balance = balance\n",
    "        \n",
    "    def deposit(self,amount): ## Special function deposit & withdraw\n",
    "        self.balance += amount ## amount is variable defined within deposit function, is local variable wouldn't create trouble for global variables\n",
    "        return self.balance\n",
    "    def withdraw(self,amount):\n",
    "        while self.balance < amount:\n",
    "            print(\"Your balance is {}, cannot withdraw more than it\".format(self.balance))\n",
    "            amount=int(input(\"Please re-enter your withdraw amount: \"))\n",
    "        self.balance += - amount\n",
    "        return self.balance\n",
    "    def __str__(self):\n",
    "        return f\"Account owner: {self.owner}\\nAccount balance: {self.balance}\""
   ]
  }
 ],
 "metadata": {
  "kernelspec": {
   "display_name": "Python 3",
   "language": "python",
   "name": "python3"
  },
  "language_info": {
   "codemirror_mode": {
    "name": "ipython",
    "version": 3
   },
   "file_extension": ".py",
   "mimetype": "text/x-python",
   "name": "python",
   "nbconvert_exporter": "python",
   "pygments_lexer": "ipython3",
   "version": "3.6.4"
  }
 },
 "nbformat": 4,
 "nbformat_minor": 2
}
