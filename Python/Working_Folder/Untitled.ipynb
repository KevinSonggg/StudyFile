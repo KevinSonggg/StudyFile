{
 "cells": [
  {
   "cell_type": "code",
   "execution_count": 127,
   "metadata": {},
   "outputs": [],
   "source": [
    "import json\n",
    "import requests\n",
    "from IPython.display import clear_output\n",
    "import pandas as pd\n",
    "from datetime import datetime"
   ]
  },
  {
   "cell_type": "code",
   "execution_count": 248,
   "metadata": {},
   "outputs": [],
   "source": [
    "class BN_UTC():\n",
    "    \n",
    "    import datetime\n",
    "    base_time = datetime.datetime(1969,12,31,19,0,0) ## This is the base time\n",
    "    \n",
    "    def __init__(self,sys_time):\n",
    "        self.UTC = self.base_time + self.datetime.timedelta(seconds = int(str(sys_time)[:-3]))\n",
    "        self.China = self.UTC + self.datetime.timedelta(hours = 13)\n",
    "        self.Korea = self.UTC + self.datetime.timedelta(hours = 14)\n",
    "        self.Vietnam = self.UTC + self.datetime.timedelta(hours = 12)\n",
    "        self.England = self.UTC + self.datetime.timedelta(hours = 6)"
   ]
  },
  {
   "cell_type": "code",
   "execution_count": 111,
   "metadata": {},
   "outputs": [],
   "source": [
    "api_url_base= 'https://api.binance.com'"
   ]
  },
  {
   "cell_type": "code",
   "execution_count": 112,
   "metadata": {},
   "outputs": [
    {
     "data": {
      "text/plain": [
       "<Response [200]>"
      ]
     },
     "execution_count": 112,
     "metadata": {},
     "output_type": "execute_result"
    }
   ],
   "source": [
    "requests.get(api_url_base)"
   ]
  },
  {
   "cell_type": "code",
   "execution_count": 239,
   "metadata": {},
   "outputs": [],
   "source": [
    "k = requests.get(api_url_base+'/api/'+'v3'+'/'+'ticker/price',params={'symbol':'ICXBTC'})"
   ]
  },
  {
   "cell_type": "code",
   "execution_count": null,
   "metadata": {},
   "outputs": [],
   "source": []
  },
  {
   "cell_type": "code",
   "execution_count": 128,
   "metadata": {},
   "outputs": [
    {
     "data": {
      "text/plain": [
       "'{\"symbol\":\"ETHUSDT\",\"price\":\"601.35000000\"}'"
      ]
     },
     "execution_count": 128,
     "metadata": {},
     "output_type": "execute_result"
    }
   ],
   "source": [
    "k.content.decode('utf-8')"
   ]
  },
  {
   "cell_type": "code",
   "execution_count": 137,
   "metadata": {},
   "outputs": [
    {
     "data": {
      "text/plain": [
       "{'price': '601.35000000', 'symbol': 'ETHUSDT'}"
      ]
     },
     "execution_count": 137,
     "metadata": {},
     "output_type": "execute_result"
    }
   ],
   "source": [
    "json.loads(k.content.decode('utf-8'))"
   ]
  },
  {
   "cell_type": "code",
   "execution_count": 240,
   "metadata": {},
   "outputs": [],
   "source": [
    "y = requests.get(api_url_base+'/api/'+'v1'+'/'+'trades',params={'symbol':'ADXBTC'})"
   ]
  },
  {
   "cell_type": "code",
   "execution_count": 241,
   "metadata": {},
   "outputs": [
    {
     "ename": "NameError",
     "evalue": "name 'content_clear' is not defined",
     "output_type": "error",
     "traceback": [
      "\u001b[0;31m---------------------------------------------------------------------------\u001b[0m",
      "\u001b[0;31mNameError\u001b[0m                                 Traceback (most recent call last)",
      "\u001b[0;32m<ipython-input-241-8a2649dea247>\u001b[0m in \u001b[0;36m<module>\u001b[0;34m()\u001b[0m\n\u001b[1;32m      1\u001b[0m \u001b[0mjson\u001b[0m\u001b[0;34m.\u001b[0m\u001b[0mloads\u001b[0m\u001b[0;34m(\u001b[0m\u001b[0my\u001b[0m\u001b[0;34m.\u001b[0m\u001b[0mcontent\u001b[0m\u001b[0;34m.\u001b[0m\u001b[0mdecode\u001b[0m\u001b[0;34m(\u001b[0m\u001b[0;34m'utf-8'\u001b[0m\u001b[0;34m)\u001b[0m\u001b[0;34m)\u001b[0m\u001b[0;34m\u001b[0m\u001b[0m\n\u001b[0;32m----> 2\u001b[0;31m \u001b[0mcontent_clear\u001b[0m\u001b[0;34m(\u001b[0m\u001b[0;34m)\u001b[0m\u001b[0;34m\u001b[0m\u001b[0m\n\u001b[0m",
      "\u001b[0;31mNameError\u001b[0m: name 'content_clear' is not defined"
     ]
    }
   ],
   "source": [
    "json.loads(y.content.decode('utf-8'))\n",
    "content_clear()"
   ]
  },
  {
   "cell_type": "code",
   "execution_count": 134,
   "metadata": {},
   "outputs": [],
   "source": [
    "import pandas as pd"
   ]
  },
  {
   "cell_type": "code",
   "execution_count": 242,
   "metadata": {},
   "outputs": [],
   "source": [
    "df = pd.read_json(y.content.decode('utf-8'))"
   ]
  },
  {
   "cell_type": "code",
   "execution_count": 254,
   "metadata": {},
   "outputs": [],
   "source": [
    "df['DateTime_UTC'] = df['time'].apply(lambda x: BN_UTC(x).UTC)"
   ]
  },
  {
   "cell_type": "code",
   "execution_count": 263,
   "metadata": {},
   "outputs": [
    {
     "data": {
      "text/html": [
       "<div>\n",
       "<style scoped>\n",
       "    .dataframe tbody tr th:only-of-type {\n",
       "        vertical-align: middle;\n",
       "    }\n",
       "\n",
       "    .dataframe tbody tr th {\n",
       "        vertical-align: top;\n",
       "    }\n",
       "\n",
       "    .dataframe thead th {\n",
       "        text-align: right;\n",
       "    }\n",
       "</style>\n",
       "<table border=\"1\" class=\"dataframe\">\n",
       "  <thead>\n",
       "    <tr style=\"text-align: right;\">\n",
       "      <th></th>\n",
       "      <th>id</th>\n",
       "      <th>isBestMatch</th>\n",
       "      <th>isBuyerMaker</th>\n",
       "      <th>price</th>\n",
       "      <th>qty</th>\n",
       "      <th>time</th>\n",
       "      <th>DateTime_UTC</th>\n",
       "    </tr>\n",
       "  </thead>\n",
       "  <tbody>\n",
       "    <tr>\n",
       "      <th>0</th>\n",
       "      <td>1440825</td>\n",
       "      <td>True</td>\n",
       "      <td>False</td>\n",
       "      <td>0.000111</td>\n",
       "      <td>17</td>\n",
       "      <td>1524540090274</td>\n",
       "      <td>2018-04-23 22:21:30</td>\n",
       "    </tr>\n",
       "    <tr>\n",
       "      <th>1</th>\n",
       "      <td>1440826</td>\n",
       "      <td>True</td>\n",
       "      <td>False</td>\n",
       "      <td>0.000111</td>\n",
       "      <td>32</td>\n",
       "      <td>1524540094235</td>\n",
       "      <td>2018-04-23 22:21:34</td>\n",
       "    </tr>\n",
       "    <tr>\n",
       "      <th>2</th>\n",
       "      <td>1440827</td>\n",
       "      <td>True</td>\n",
       "      <td>False</td>\n",
       "      <td>0.000111</td>\n",
       "      <td>12</td>\n",
       "      <td>1524540096537</td>\n",
       "      <td>2018-04-23 22:21:36</td>\n",
       "    </tr>\n",
       "    <tr>\n",
       "      <th>3</th>\n",
       "      <td>1440828</td>\n",
       "      <td>True</td>\n",
       "      <td>False</td>\n",
       "      <td>0.000111</td>\n",
       "      <td>16</td>\n",
       "      <td>1524540096537</td>\n",
       "      <td>2018-04-23 22:21:36</td>\n",
       "    </tr>\n",
       "    <tr>\n",
       "      <th>4</th>\n",
       "      <td>1440829</td>\n",
       "      <td>True</td>\n",
       "      <td>True</td>\n",
       "      <td>0.000111</td>\n",
       "      <td>98</td>\n",
       "      <td>1524540103111</td>\n",
       "      <td>2018-04-23 22:21:43</td>\n",
       "    </tr>\n",
       "  </tbody>\n",
       "</table>\n",
       "</div>"
      ],
      "text/plain": [
       "        id  isBestMatch  isBuyerMaker     price  qty           time  \\\n",
       "0  1440825         True         False  0.000111   17  1524540090274   \n",
       "1  1440826         True         False  0.000111   32  1524540094235   \n",
       "2  1440827         True         False  0.000111   12  1524540096537   \n",
       "3  1440828         True         False  0.000111   16  1524540096537   \n",
       "4  1440829         True          True  0.000111   98  1524540103111   \n",
       "\n",
       "         DateTime_UTC  \n",
       "0 2018-04-23 22:21:30  \n",
       "1 2018-04-23 22:21:34  \n",
       "2 2018-04-23 22:21:36  \n",
       "3 2018-04-23 22:21:36  \n",
       "4 2018-04-23 22:21:43  "
      ]
     },
     "execution_count": 263,
     "metadata": {},
     "output_type": "execute_result"
    }
   ],
   "source": [
    "df.head()"
   ]
  },
  {
   "cell_type": "code",
   "execution_count": 146,
   "metadata": {},
   "outputs": [],
   "source": [
    "import datetime \n",
    "now = datetime.datetime.now()"
   ]
  },
  {
   "cell_type": "code",
   "execution_count": 147,
   "metadata": {},
   "outputs": [
    {
     "data": {
      "text/plain": [
       "datetime.datetime(2018, 4, 22, 18, 48, 45, 147533)"
      ]
     },
     "execution_count": 147,
     "metadata": {},
     "output_type": "execute_result"
    }
   ],
   "source": [
    "now"
   ]
  },
  {
   "cell_type": "code",
   "execution_count": 195,
   "metadata": {},
   "outputs": [],
   "source": [
    "import time\n",
    "y = requests.get(api_url_base+'/api/'+'v1'+'/time')\n",
    "x = datetime.datetime.now()\n",
    "\n"
   ]
  },
  {
   "cell_type": "code",
   "execution_count": 198,
   "metadata": {},
   "outputs": [],
   "source": [
    "y_1 = requests.get(api_url_base+'/api/'+'v1'+'/time')\n",
    "x_1 = datetime.datetime.now()"
   ]
  },
  {
   "cell_type": "code",
   "execution_count": 196,
   "metadata": {},
   "outputs": [
    {
     "data": {
      "text/plain": [
       "datetime.datetime(2018, 4, 22, 19, 38, 30, 161743)"
      ]
     },
     "execution_count": 196,
     "metadata": {},
     "output_type": "execute_result"
    }
   ],
   "source": [
    "x"
   ]
  },
  {
   "cell_type": "code",
   "execution_count": 197,
   "metadata": {},
   "outputs": [
    {
     "data": {
      "text/plain": [
       "'{\"serverTime\":1524443910109}'"
      ]
     },
     "execution_count": 197,
     "metadata": {},
     "output_type": "execute_result"
    }
   ],
   "source": [
    "\n",
    "y.content.decode('utf-8')\n",
    "##pd.read_json(y.content.decode('utf-8'))"
   ]
  },
  {
   "cell_type": "code",
   "execution_count": 199,
   "metadata": {},
   "outputs": [
    {
     "data": {
      "text/plain": [
       "datetime.datetime(2018, 4, 22, 19, 39, 32, 259520)"
      ]
     },
     "execution_count": 199,
     "metadata": {},
     "output_type": "execute_result"
    }
   ],
   "source": [
    "x_1"
   ]
  },
  {
   "cell_type": "code",
   "execution_count": 201,
   "metadata": {},
   "outputs": [
    {
     "data": {
      "text/plain": [
       "'{\"serverTime\":1524443972203}'"
      ]
     },
     "execution_count": 201,
     "metadata": {},
     "output_type": "execute_result"
    }
   ],
   "source": [
    "y_1.content.decode('utf-8')"
   ]
  },
  {
   "cell_type": "code",
   "execution_count": 213,
   "metadata": {},
   "outputs": [
    {
     "ename": "TypeError",
     "evalue": "can only concatenate tuple (not \"int\") to tuple",
     "output_type": "error",
     "traceback": [
      "\u001b[0;31m---------------------------------------------------------------------------\u001b[0m",
      "\u001b[0;31mTypeError\u001b[0m                                 Traceback (most recent call last)",
      "\u001b[0;32m<ipython-input-213-0b983280980a>\u001b[0m in \u001b[0;36m<module>\u001b[0;34m()\u001b[0m\n\u001b[0;32m----> 1\u001b[0;31m \u001b[0mtime\u001b[0m\u001b[0;34m.\u001b[0m\u001b[0mstrftime\u001b[0m\u001b[0;34m(\u001b[0m\u001b[0;34m\"%b-%d-%Y %H:%M:%S\"\u001b[0m\u001b[0;34m,\u001b[0m\u001b[0mtime\u001b[0m\u001b[0;34m.\u001b[0m\u001b[0mlocaltime\u001b[0m\u001b[0;34m(\u001b[0m\u001b[0;34m)\u001b[0m\u001b[0;34m+\u001b[0m\u001b[0;36m1\u001b[0m\u001b[0;34m)\u001b[0m\u001b[0;34m\u001b[0m\u001b[0m\n\u001b[0m",
      "\u001b[0;31mTypeError\u001b[0m: can only concatenate tuple (not \"int\") to tuple"
     ]
    }
   ],
   "source": [
    "time.strftime(\"%b-%d-%Y %H:%M:%S\",time.localtime())"
   ]
  },
  {
   "cell_type": "code",
   "execution_count": 217,
   "metadata": {},
   "outputs": [],
   "source": [
    "import datetime"
   ]
  },
  {
   "cell_type": "code",
   "execution_count": 247,
   "metadata": {},
   "outputs": [
    {
     "name": "stdout",
     "output_type": "stream",
     "text": [
      "2018-04-23 22:21:30\n"
     ]
    }
   ],
   "source": [
    "print(datetime.datetime(1969,12,31,19,0,0) + datetime.timedelta(seconds = int(str(1524540090274)[:-3])))"
   ]
  },
  {
   "cell_type": "code",
   "execution_count": 233,
   "metadata": {},
   "outputs": [
    {
     "data": {
      "text/plain": [
       "datetime.datetime(1969, 12, 31, 19, 0)"
      ]
     },
     "execution_count": 233,
     "metadata": {},
     "output_type": "execute_result"
    }
   ],
   "source": [
    "datetime.datetime(1969,12,31,19,0,0)"
   ]
  },
  {
   "cell_type": "code",
   "execution_count": null,
   "metadata": {},
   "outputs": [],
   "source": []
  },
  {
   "cell_type": "code",
   "execution_count": 237,
   "metadata": {},
   "outputs": [
    {
     "data": {
      "text/plain": [
       "'123413'"
      ]
     },
     "execution_count": 237,
     "metadata": {},
     "output_type": "execute_result"
    }
   ],
   "source": [
    "str(123413132)[:-3]"
   ]
  },
  {
   "cell_type": "code",
   "execution_count": 15,
   "metadata": {},
   "outputs": [],
   "source": [
    "class dog():\n",
    "    name = 'Simba'\n",
    "    DOB = 'Mar-11'\n",
    "    cla = 'GS'\n",
    "\n",
    "    def __init__(self):\n",
    "        self.my_name = f'My name is {self.name}'"
   ]
  },
  {
   "cell_type": "code",
   "execution_count": 16,
   "metadata": {},
   "outputs": [],
   "source": [
    "x = dog()"
   ]
  },
  {
   "cell_type": "code",
   "execution_count": 28,
   "metadata": {},
   "outputs": [],
   "source": [
    "class dog():\n",
    "    name = 'Simba'\n",
    "\n",
    "my_dog = dog()"
   ]
  },
  {
   "cell_type": "code",
   "execution_count": 24,
   "metadata": {},
   "outputs": [],
   "source": [
    "dog().name = 'Sindi'"
   ]
  },
  {
   "cell_type": "code",
   "execution_count": 32,
   "metadata": {},
   "outputs": [
    {
     "data": {
      "text/plain": [
       "'Sindi'"
      ]
     },
     "execution_count": 32,
     "metadata": {},
     "output_type": "execute_result"
    }
   ],
   "source": [
    "my_dog.name"
   ]
  },
  {
   "cell_type": "code",
   "execution_count": 23,
   "metadata": {},
   "outputs": [
    {
     "data": {
      "text/plain": [
       "'Simba'"
      ]
     },
     "execution_count": 23,
     "metadata": {},
     "output_type": "execute_result"
    }
   ],
   "source": [
    "dog().name"
   ]
  },
  {
   "cell_type": "code",
   "execution_count": 31,
   "metadata": {},
   "outputs": [],
   "source": [
    "dog.name = 'Sindi'"
   ]
  },
  {
   "cell_type": "code",
   "execution_count": 26,
   "metadata": {},
   "outputs": [
    {
     "data": {
      "text/plain": [
       "'Simba'"
      ]
     },
     "execution_count": 26,
     "metadata": {},
     "output_type": "execute_result"
    }
   ],
   "source": [
    "my_dog"
   ]
  },
  {
   "cell_type": "code",
   "execution_count": 27,
   "metadata": {},
   "outputs": [
    {
     "data": {
      "text/plain": [
       "'Sindi'"
      ]
     },
     "execution_count": 27,
     "metadata": {},
     "output_type": "execute_result"
    }
   ],
   "source": [
    "dog.name"
   ]
  },
  {
   "cell_type": "code",
   "execution_count": 33,
   "metadata": {},
   "outputs": [],
   "source": [
    "class dog_2():\n",
    "    def __init__(self):\n",
    "        self.name = 'simba'"
   ]
  },
  {
   "cell_type": "code",
   "execution_count": 34,
   "metadata": {},
   "outputs": [],
   "source": [
    "my_dog_2 = dog_2()"
   ]
  },
  {
   "cell_type": "code",
   "execution_count": 35,
   "metadata": {},
   "outputs": [
    {
     "data": {
      "text/plain": [
       "'simba'"
      ]
     },
     "execution_count": 35,
     "metadata": {},
     "output_type": "execute_result"
    }
   ],
   "source": [
    "my_dog_2.name"
   ]
  },
  {
   "cell_type": "code",
   "execution_count": 37,
   "metadata": {},
   "outputs": [],
   "source": [
    "dog_2.name = 'Sindi'"
   ]
  },
  {
   "cell_type": "code",
   "execution_count": 38,
   "metadata": {},
   "outputs": [
    {
     "data": {
      "text/plain": [
       "'Sindi'"
      ]
     },
     "execution_count": 38,
     "metadata": {},
     "output_type": "execute_result"
    }
   ],
   "source": [
    "dog_2.name"
   ]
  },
  {
   "cell_type": "code",
   "execution_count": 39,
   "metadata": {},
   "outputs": [
    {
     "data": {
      "text/plain": [
       "'simba'"
      ]
     },
     "execution_count": 39,
     "metadata": {},
     "output_type": "execute_result"
    }
   ],
   "source": [
    "my_dog_2.name"
   ]
  },
  {
   "cell_type": "code",
   "execution_count": 41,
   "metadata": {},
   "outputs": [],
   "source": [
    "test_session = requests.session()"
   ]
  },
  {
   "cell_type": "code",
   "execution_count": 42,
   "metadata": {},
   "outputs": [
    {
     "data": {
      "text/plain": [
       "<RequestsCookieJar[]>"
      ]
     },
     "execution_count": 42,
     "metadata": {},
     "output_type": "execute_result"
    }
   ],
   "source": [
    "test_session.cookies"
   ]
  },
  {
   "cell_type": "code",
   "execution_count": 44,
   "metadata": {},
   "outputs": [],
   "source": [
    "test_session.headers.update({'User-Agent': 'binance/python',\n",
    "                            'Accept': 'application/json',\n",
    "                            'X-MBX-APIKEY': 'hxjkL6dG5mvL84nTBjt9Mkq7ZF8zMyg8LYERWK3Nfno0XXyMIkmJeqGglgemZRkp'})"
   ]
  },
  {
   "cell_type": "code",
   "execution_count": 47,
   "metadata": {},
   "outputs": [
    {
     "data": {
      "text/plain": [
       "{'User-Agent': 'binance/python', 'Accept-Encoding': 'gzip, deflate', 'Accept': 'application/json', 'Connection': 'keep-alive', 'X-MBX-APIKEY': 'hxjkL6dG5mvL84nTBjt9Mkq7ZF8zMyg8LYERWK3Nfno0XXyMIkmJeqGglgemZRkp'}"
      ]
     },
     "execution_count": 47,
     "metadata": {},
     "output_type": "execute_result"
    }
   ],
   "source": [
    "test_session.headers"
   ]
  },
  {
   "cell_type": "code",
   "execution_count": 48,
   "metadata": {},
   "outputs": [
    {
     "data": {
      "text/plain": [
       "<requests.sessions.Session at 0x1082b2358>"
      ]
     },
     "execution_count": 48,
     "metadata": {},
     "output_type": "execute_result"
    }
   ],
   "source": [
    "test_session"
   ]
  },
  {
   "cell_type": "code",
   "execution_count": 69,
   "metadata": {},
   "outputs": [],
   "source": [
    "api_url_base = 'https://api.binance.com'\n",
    "test = test_session.get(api_url_base+'/api/'+'v1'+'/'+'historicalTrades',params={'symbol':'CMTBTC'})"
   ]
  },
  {
   "cell_type": "code",
   "execution_count": 70,
   "metadata": {},
   "outputs": [],
   "source": [
    "df = pd.read_json(test.content.decode('utf-8'))"
   ]
  },
  {
   "cell_type": "code",
   "execution_count": 307,
   "metadata": {},
   "outputs": [
    {
     "data": {
      "text/plain": [
       "numpy.int64"
      ]
     },
     "execution_count": 307,
     "metadata": {},
     "output_type": "execute_result"
    }
   ],
   "source": []
  },
  {
   "cell_type": "code",
   "execution_count": 122,
   "metadata": {},
   "outputs": [],
   "source": [
    "def myfunc(**kwarg):\n",
    "    return kwarg\n",
    "\n",
    "def myfunc_2 (**kwarg):\n",
    "    return myfunc(**kwarg)"
   ]
  },
  {
   "cell_type": "code",
   "execution_count": 123,
   "metadata": {},
   "outputs": [],
   "source": [
    "x = myfunc_2(symbol = 'BTCUSDT',time = 'today')"
   ]
  },
  {
   "cell_type": "code",
   "execution_count": 124,
   "metadata": {},
   "outputs": [
    {
     "data": {
      "text/plain": [
       "{'symbol': 'BTCUSDT', 'time': 'today'}"
      ]
     },
     "execution_count": 124,
     "metadata": {},
     "output_type": "execute_result"
    }
   ],
   "source": [
    "x"
   ]
  },
  {
   "cell_type": "code",
   "execution_count": 97,
   "metadata": {},
   "outputs": [],
   "source": [
    "y = myfunc(symbol = 'BTCUSDT',time = 'today')"
   ]
  },
  {
   "cell_type": "code",
   "execution_count": 111,
   "metadata": {},
   "outputs": [
    {
     "data": {
      "text/plain": [
       "dict_values(['BTCUSDT', 'today'])"
      ]
     },
     "execution_count": 111,
     "metadata": {},
     "output_type": "execute_result"
    }
   ],
   "source": [
    "y.values()"
   ]
  },
  {
   "cell_type": "code",
   "execution_count": 174,
   "metadata": {},
   "outputs": [],
   "source": [
    "import pytz\n",
    "import dateparser"
   ]
  },
  {
   "cell_type": "code",
   "execution_count": 207,
   "metadata": {},
   "outputs": [],
   "source": [
    "epoch = datetime.utcfromtimestamp(0).replace(tzinfo=pytz.utc)"
   ]
  },
  {
   "cell_type": "code",
   "execution_count": 151,
   "metadata": {},
   "outputs": [
    {
     "data": {
      "text/plain": [
       "'1970-01-01 00:00:00 UTC+0000'"
      ]
     },
     "execution_count": 151,
     "metadata": {},
     "output_type": "execute_result"
    }
   ],
   "source": [
    "fmt = '%Y-%m-%d %H:%M:%S %Z%z'\n",
    "epoch.strftime(fmt)"
   ]
  },
  {
   "cell_type": "code",
   "execution_count": 216,
   "metadata": {},
   "outputs": [],
   "source": [
    "k=dateparser.parse('2018-04-29 15:20:30')"
   ]
  },
  {
   "cell_type": "code",
   "execution_count": 219,
   "metadata": {},
   "outputs": [],
   "source": [
    "k\n",
    "y = pytz.timezone('US/Central').localize(k)"
   ]
  },
  {
   "cell_type": "code",
   "execution_count": 220,
   "metadata": {},
   "outputs": [
    {
     "data": {
      "text/plain": [
       "datetime.datetime(2018, 4, 29, 20, 20, 30, tzinfo=<UTC>)"
      ]
     },
     "execution_count": 220,
     "metadata": {},
     "output_type": "execute_result"
    }
   ],
   "source": [
    "y.astimezone(pytz.utc)"
   ]
  },
  {
   "cell_type": "code",
   "execution_count": 214,
   "metadata": {},
   "outputs": [
    {
     "data": {
      "text/plain": [
       "'2018-04-29 18:01:30 UTC+0000'"
      ]
     },
     "execution_count": 214,
     "metadata": {},
     "output_type": "execute_result"
    }
   ],
   "source": [
    "x = y.astimezone(pytz.utc)\n",
    "x.strftime(fmt)"
   ]
  },
  {
   "cell_type": "code",
   "execution_count": null,
   "metadata": {},
   "outputs": [],
   "source": []
  },
  {
   "cell_type": "code",
   "execution_count": 200,
   "metadata": {},
   "outputs": [
    {
     "data": {
      "text/plain": [
       "datetime.datetime(2018, 4, 29, 18, 1, 30, tzinfo=<UTC>)"
      ]
     },
     "execution_count": 200,
     "metadata": {},
     "output_type": "execute_result"
    }
   ],
   "source": [
    "k.astimezone(pytz.timezone('US/Central))"
   ]
  },
  {
   "cell_type": "code",
   "execution_count": 202,
   "metadata": {},
   "outputs": [
    {
     "data": {
      "text/plain": [
       "datetime.datetime(2018, 4, 29, 13, 1, 30, tzinfo=<DstTzInfo 'US/Central' CDT-1 day, 19:00:00 DST>)"
      ]
     },
     "execution_count": 202,
     "metadata": {},
     "output_type": "execute_result"
    }
   ],
   "source": [
    "pytz.timezone('US/Central').localize(k)"
   ]
  },
  {
   "cell_type": "code",
   "execution_count": 329,
   "metadata": {},
   "outputs": [],
   "source": [
    "from datetime import datetime\n",
    "import pytz ##used for locate  time zone\n",
    "import dateparser ##used for take in date input\n",
    "\n",
    "class date_time_switch():\n",
    "\n",
    "    _epoch = datetime.utcfromtimestamp(0).replace(tzinfo=pytz.utc) ## get the benchmark datetime\n",
    "    _fmt = '%Y-%m-%d %H:%M:%S' ## this is the standard format we want to output\n",
    "        \n",
    "    ## Basic function    \n",
    "    def _date_input(self,input_date,timezone='US/Central'): \n",
    "        return pytz.timezone(timezone).localize(dateparser.parse(input_date))\n",
    "    \n",
    "    ## Utility function\n",
    "    ## Take string format date and output UTC format\n",
    "    def date_UTC(self,input_date):\n",
    "        ## date based on UTC\n",
    "        return self._date_input(input_date).astimezone(pytz.utc)\n",
    "    \n",
    "    ## Take UTC date and convert to seconds\n",
    "    def date_second(self,input_date):\n",
    "        ## date on seconds\n",
    "        return int((self.date_UTC(input_date) - self._epoch).total_seconds() * 1000.0)\n",
    "    \n",
    "    ## Translate interval date into seconds \n",
    "    def interval_second(self,input_interval):\n",
    "        seconds_per_unit = {\n",
    "            \"m\": 60,\n",
    "            \"h\": 60 * 60,\n",
    "            \"d\": 24 * 60 * 60,\n",
    "            \"w\": 7 * 24 * 60 * 60,\n",
    "        }\n",
    "        if input_interval[-1] in seconds_per_unit.keys():\n",
    "            return int(input_interval[:-1])*seconds_per_unit[input_interval[-1]]\n",
    "    \n",
    "    ## Translate Seconds format from binance output into human readable format\n",
    "    def second_date(self,input_second):\n",
    "        return self._date_input(datetime.fromtimestamp(int(str(input_second)[:-3])).strftime(self._fmt))"
   ]
  },
  {
   "cell_type": "code",
   "execution_count": 330,
   "metadata": {},
   "outputs": [],
   "source": [
    "k = date_time_switch()"
   ]
  },
  {
   "cell_type": "code",
   "execution_count": 332,
   "metadata": {},
   "outputs": [
    {
     "data": {
      "text/plain": [
       "1525041070000"
      ]
     },
     "execution_count": 332,
     "metadata": {},
     "output_type": "execute_result"
    }
   ],
   "source": [
    "k.date_second(datetime.now().strftime(fmt))"
   ]
  },
  {
   "cell_type": "code",
   "execution_count": 264,
   "metadata": {},
   "outputs": [],
   "source": [
    " seconds_per_unit = {\n",
    "            \"m\": 60,\n",
    "            \"h\": 60 * 60,\n",
    "            \"d\": 24 * 60 * 60,\n",
    "            \"w\": 7 * 24 * 60 * 60,\n",
    "        }\n",
    "    "
   ]
  },
  {
   "cell_type": "code",
   "execution_count": 249,
   "metadata": {},
   "outputs": [
    {
     "data": {
      "text/plain": [
       "1525034870000"
      ]
     },
     "execution_count": 249,
     "metadata": {},
     "output_type": "execute_result"
    }
   ],
   "source": [
    "k.Seconds"
   ]
  },
  {
   "cell_type": "code",
   "execution_count": 265,
   "metadata": {},
   "outputs": [],
   "source": [
    "kkk =  seconds_per_unit = {\n",
    "            \"m\": 60,\n",
    "            \"h\": 60 * 60,\n",
    "            \"d\": 24 * 60 * 60,\n",
    "            \"w\": 7 * 24 * 60 * 60,\n",
    "        }\n",
    "    "
   ]
  },
  {
   "cell_type": "code",
   "execution_count": 262,
   "metadata": {},
   "outputs": [],
   "source": []
  },
  {
   "cell_type": "code",
   "execution_count": 263,
   "metadata": {},
   "outputs": [
    {
     "data": {
      "text/plain": [
       "'m'"
      ]
     },
     "execution_count": 263,
     "metadata": {},
     "output_type": "execute_result"
    }
   ],
   "source": [
    "y[-1]"
   ]
  },
  {
   "cell_type": "code",
   "execution_count": 273,
   "metadata": {},
   "outputs": [
    {
     "data": {
      "text/plain": [
       "True"
      ]
     },
     "execution_count": 273,
     "metadata": {},
     "output_type": "execute_result"
    }
   ],
   "source": [
    "'30m'[-1] in kkk.keys()"
   ]
  },
  {
   "cell_type": "code",
   "execution_count": 275,
   "metadata": {},
   "outputs": [
    {
     "data": {
      "text/plain": [
       "30"
      ]
     },
     "execution_count": 275,
     "metadata": {},
     "output_type": "execute_result"
    }
   ],
   "source": [
    "int('30m'[:-1])"
   ]
  },
  {
   "cell_type": "code",
   "execution_count": 276,
   "metadata": {},
   "outputs": [
    {
     "data": {
      "text/plain": [
       "60"
      ]
     },
     "execution_count": 276,
     "metadata": {},
     "output_type": "execute_result"
    }
   ],
   "source": [
    "kkk['m']"
   ]
  },
  {
   "cell_type": "code",
   "execution_count": 283,
   "metadata": {},
   "outputs": [
    {
     "data": {
      "text/plain": [
       "604800"
      ]
     },
     "execution_count": 283,
     "metadata": {},
     "output_type": "execute_result"
    }
   ],
   "source": []
  },
  {
   "cell_type": "code",
   "execution_count": 327,
   "metadata": {},
   "outputs": [
    {
     "data": {
      "text/plain": [
       "datetime.datetime(2018, 4, 29, 17, 18, 55, tzinfo=<DstTzInfo 'US/Central' CDT-1 day, 19:00:00 DST>)"
      ]
     },
     "execution_count": 327,
     "metadata": {},
     "output_type": "execute_result"
    }
   ],
   "source": [
    "k.second_date(1525040335495)"
   ]
  },
  {
   "cell_type": "code",
   "execution_count": 310,
   "metadata": {},
   "outputs": [
    {
     "data": {
      "text/plain": [
       "1524967048"
      ]
     },
     "execution_count": 310,
     "metadata": {},
     "output_type": "execute_result"
    }
   ],
   "source": []
  },
  {
   "cell_type": "code",
   "execution_count": 345,
   "metadata": {},
   "outputs": [],
   "source": [
    "y = requests.get(api_url_base+'/api/'+'v1'+'/'+'klines',params={'symbol':'CMTBTC','interval':'30m','limit':'500','startTime':'1524144600000'})"
   ]
  },
  {
   "cell_type": "code",
   "execution_count": 346,
   "metadata": {},
   "outputs": [],
   "source": [
    "df = pd.read_json(y.content.decode('utf-8'))"
   ]
  },
  {
   "cell_type": "code",
   "execution_count": 347,
   "metadata": {},
   "outputs": [
    {
     "data": {
      "text/html": [
       "<div>\n",
       "<style scoped>\n",
       "    .dataframe tbody tr th:only-of-type {\n",
       "        vertical-align: middle;\n",
       "    }\n",
       "\n",
       "    .dataframe tbody tr th {\n",
       "        vertical-align: top;\n",
       "    }\n",
       "\n",
       "    .dataframe thead th {\n",
       "        text-align: right;\n",
       "    }\n",
       "</style>\n",
       "<table border=\"1\" class=\"dataframe\">\n",
       "  <thead>\n",
       "    <tr style=\"text-align: right;\">\n",
       "      <th></th>\n",
       "      <th>0</th>\n",
       "      <th>1</th>\n",
       "      <th>2</th>\n",
       "      <th>3</th>\n",
       "      <th>4</th>\n",
       "      <th>5</th>\n",
       "      <th>6</th>\n",
       "      <th>7</th>\n",
       "      <th>8</th>\n",
       "      <th>9</th>\n",
       "      <th>10</th>\n",
       "      <th>11</th>\n",
       "    </tr>\n",
       "  </thead>\n",
       "  <tbody>\n",
       "    <tr>\n",
       "      <th>0</th>\n",
       "      <td>1524144600000</td>\n",
       "      <td>0.000015</td>\n",
       "      <td>0.000015</td>\n",
       "      <td>0.000015</td>\n",
       "      <td>0.000015</td>\n",
       "      <td>355876</td>\n",
       "      <td>1524146399999</td>\n",
       "      <td>5.358770</td>\n",
       "      <td>237</td>\n",
       "      <td>216418</td>\n",
       "      <td>3.262079</td>\n",
       "      <td>0</td>\n",
       "    </tr>\n",
       "    <tr>\n",
       "      <th>1</th>\n",
       "      <td>1524146400000</td>\n",
       "      <td>0.000015</td>\n",
       "      <td>0.000015</td>\n",
       "      <td>0.000015</td>\n",
       "      <td>0.000015</td>\n",
       "      <td>145019</td>\n",
       "      <td>1524148199999</td>\n",
       "      <td>2.189291</td>\n",
       "      <td>131</td>\n",
       "      <td>111413</td>\n",
       "      <td>1.682223</td>\n",
       "      <td>0</td>\n",
       "    </tr>\n",
       "    <tr>\n",
       "      <th>2</th>\n",
       "      <td>1524148200000</td>\n",
       "      <td>0.000015</td>\n",
       "      <td>0.000015</td>\n",
       "      <td>0.000015</td>\n",
       "      <td>0.000015</td>\n",
       "      <td>641795</td>\n",
       "      <td>1524149999999</td>\n",
       "      <td>9.747603</td>\n",
       "      <td>322</td>\n",
       "      <td>499708</td>\n",
       "      <td>7.595295</td>\n",
       "      <td>0</td>\n",
       "    </tr>\n",
       "    <tr>\n",
       "      <th>3</th>\n",
       "      <td>1524150000000</td>\n",
       "      <td>0.000015</td>\n",
       "      <td>0.000015</td>\n",
       "      <td>0.000015</td>\n",
       "      <td>0.000015</td>\n",
       "      <td>386059</td>\n",
       "      <td>1524151799999</td>\n",
       "      <td>5.873750</td>\n",
       "      <td>333</td>\n",
       "      <td>228804</td>\n",
       "      <td>3.483970</td>\n",
       "      <td>0</td>\n",
       "    </tr>\n",
       "    <tr>\n",
       "      <th>4</th>\n",
       "      <td>1524151800000</td>\n",
       "      <td>0.000015</td>\n",
       "      <td>0.000015</td>\n",
       "      <td>0.000015</td>\n",
       "      <td>0.000015</td>\n",
       "      <td>160452</td>\n",
       "      <td>1524153599999</td>\n",
       "      <td>2.451541</td>\n",
       "      <td>109</td>\n",
       "      <td>113557</td>\n",
       "      <td>1.736596</td>\n",
       "      <td>0</td>\n",
       "    </tr>\n",
       "    <tr>\n",
       "      <th>5</th>\n",
       "      <td>1524153600000</td>\n",
       "      <td>0.000015</td>\n",
       "      <td>0.000015</td>\n",
       "      <td>0.000015</td>\n",
       "      <td>0.000015</td>\n",
       "      <td>359600</td>\n",
       "      <td>1524155399999</td>\n",
       "      <td>5.507547</td>\n",
       "      <td>155</td>\n",
       "      <td>302959</td>\n",
       "      <td>4.640723</td>\n",
       "      <td>0</td>\n",
       "    </tr>\n",
       "    <tr>\n",
       "      <th>6</th>\n",
       "      <td>1524155400000</td>\n",
       "      <td>0.000015</td>\n",
       "      <td>0.000016</td>\n",
       "      <td>0.000015</td>\n",
       "      <td>0.000016</td>\n",
       "      <td>651668</td>\n",
       "      <td>1524157199999</td>\n",
       "      <td>10.077956</td>\n",
       "      <td>470</td>\n",
       "      <td>560813</td>\n",
       "      <td>8.672443</td>\n",
       "      <td>0</td>\n",
       "    </tr>\n",
       "    <tr>\n",
       "      <th>7</th>\n",
       "      <td>1524157200000</td>\n",
       "      <td>0.000016</td>\n",
       "      <td>0.000016</td>\n",
       "      <td>0.000016</td>\n",
       "      <td>0.000016</td>\n",
       "      <td>752021</td>\n",
       "      <td>1524158999999</td>\n",
       "      <td>11.878222</td>\n",
       "      <td>704</td>\n",
       "      <td>512634</td>\n",
       "      <td>8.104228</td>\n",
       "      <td>0</td>\n",
       "    </tr>\n",
       "    <tr>\n",
       "      <th>8</th>\n",
       "      <td>1524159000000</td>\n",
       "      <td>0.000016</td>\n",
       "      <td>0.000016</td>\n",
       "      <td>0.000016</td>\n",
       "      <td>0.000016</td>\n",
       "      <td>358862</td>\n",
       "      <td>1524160799999</td>\n",
       "      <td>5.699494</td>\n",
       "      <td>277</td>\n",
       "      <td>265077</td>\n",
       "      <td>4.212349</td>\n",
       "      <td>0</td>\n",
       "    </tr>\n",
       "    <tr>\n",
       "      <th>9</th>\n",
       "      <td>1524160800000</td>\n",
       "      <td>0.000016</td>\n",
       "      <td>0.000016</td>\n",
       "      <td>0.000016</td>\n",
       "      <td>0.000016</td>\n",
       "      <td>406850</td>\n",
       "      <td>1524162599999</td>\n",
       "      <td>6.442234</td>\n",
       "      <td>228</td>\n",
       "      <td>270495</td>\n",
       "      <td>4.286093</td>\n",
       "      <td>0</td>\n",
       "    </tr>\n",
       "    <tr>\n",
       "      <th>10</th>\n",
       "      <td>1524162600000</td>\n",
       "      <td>0.000016</td>\n",
       "      <td>0.000016</td>\n",
       "      <td>0.000016</td>\n",
       "      <td>0.000016</td>\n",
       "      <td>369033</td>\n",
       "      <td>1524164399999</td>\n",
       "      <td>5.800472</td>\n",
       "      <td>131</td>\n",
       "      <td>99815</td>\n",
       "      <td>1.574499</td>\n",
       "      <td>0</td>\n",
       "    </tr>\n",
       "    <tr>\n",
       "      <th>11</th>\n",
       "      <td>1524164400000</td>\n",
       "      <td>0.000016</td>\n",
       "      <td>0.000016</td>\n",
       "      <td>0.000016</td>\n",
       "      <td>0.000016</td>\n",
       "      <td>56800</td>\n",
       "      <td>1524166199999</td>\n",
       "      <td>0.893841</td>\n",
       "      <td>70</td>\n",
       "      <td>26164</td>\n",
       "      <td>0.412201</td>\n",
       "      <td>0</td>\n",
       "    </tr>\n",
       "    <tr>\n",
       "      <th>12</th>\n",
       "      <td>1524166200000</td>\n",
       "      <td>0.000016</td>\n",
       "      <td>0.000016</td>\n",
       "      <td>0.000016</td>\n",
       "      <td>0.000016</td>\n",
       "      <td>82841</td>\n",
       "      <td>1524167999999</td>\n",
       "      <td>1.308425</td>\n",
       "      <td>104</td>\n",
       "      <td>73987</td>\n",
       "      <td>1.168902</td>\n",
       "      <td>0</td>\n",
       "    </tr>\n",
       "    <tr>\n",
       "      <th>13</th>\n",
       "      <td>1524168000000</td>\n",
       "      <td>0.000016</td>\n",
       "      <td>0.000016</td>\n",
       "      <td>0.000016</td>\n",
       "      <td>0.000016</td>\n",
       "      <td>169271</td>\n",
       "      <td>1524169799999</td>\n",
       "      <td>2.676024</td>\n",
       "      <td>91</td>\n",
       "      <td>134890</td>\n",
       "      <td>2.133029</td>\n",
       "      <td>0</td>\n",
       "    </tr>\n",
       "    <tr>\n",
       "      <th>14</th>\n",
       "      <td>1524169800000</td>\n",
       "      <td>0.000016</td>\n",
       "      <td>0.000016</td>\n",
       "      <td>0.000016</td>\n",
       "      <td>0.000016</td>\n",
       "      <td>84594</td>\n",
       "      <td>1524171599999</td>\n",
       "      <td>1.332576</td>\n",
       "      <td>87</td>\n",
       "      <td>61010</td>\n",
       "      <td>0.961476</td>\n",
       "      <td>0</td>\n",
       "    </tr>\n",
       "    <tr>\n",
       "      <th>15</th>\n",
       "      <td>1524171600000</td>\n",
       "      <td>0.000016</td>\n",
       "      <td>0.000016</td>\n",
       "      <td>0.000016</td>\n",
       "      <td>0.000016</td>\n",
       "      <td>113172</td>\n",
       "      <td>1524173399999</td>\n",
       "      <td>1.782732</td>\n",
       "      <td>94</td>\n",
       "      <td>65691</td>\n",
       "      <td>1.036217</td>\n",
       "      <td>0</td>\n",
       "    </tr>\n",
       "    <tr>\n",
       "      <th>16</th>\n",
       "      <td>1524173400000</td>\n",
       "      <td>0.000016</td>\n",
       "      <td>0.000016</td>\n",
       "      <td>0.000016</td>\n",
       "      <td>0.000016</td>\n",
       "      <td>84166</td>\n",
       "      <td>1524175199999</td>\n",
       "      <td>1.330292</td>\n",
       "      <td>75</td>\n",
       "      <td>70542</td>\n",
       "      <td>1.115075</td>\n",
       "      <td>0</td>\n",
       "    </tr>\n",
       "    <tr>\n",
       "      <th>17</th>\n",
       "      <td>1524175200000</td>\n",
       "      <td>0.000016</td>\n",
       "      <td>0.000016</td>\n",
       "      <td>0.000016</td>\n",
       "      <td>0.000016</td>\n",
       "      <td>90874</td>\n",
       "      <td>1524176999999</td>\n",
       "      <td>1.430349</td>\n",
       "      <td>111</td>\n",
       "      <td>11695</td>\n",
       "      <td>0.184732</td>\n",
       "      <td>0</td>\n",
       "    </tr>\n",
       "    <tr>\n",
       "      <th>18</th>\n",
       "      <td>1524177000000</td>\n",
       "      <td>0.000016</td>\n",
       "      <td>0.000016</td>\n",
       "      <td>0.000016</td>\n",
       "      <td>0.000016</td>\n",
       "      <td>125610</td>\n",
       "      <td>1524178799999</td>\n",
       "      <td>1.968707</td>\n",
       "      <td>197</td>\n",
       "      <td>61796</td>\n",
       "      <td>0.969375</td>\n",
       "      <td>0</td>\n",
       "    </tr>\n",
       "    <tr>\n",
       "      <th>19</th>\n",
       "      <td>1524178800000</td>\n",
       "      <td>0.000016</td>\n",
       "      <td>0.000016</td>\n",
       "      <td>0.000016</td>\n",
       "      <td>0.000016</td>\n",
       "      <td>322273</td>\n",
       "      <td>1524180599999</td>\n",
       "      <td>5.054104</td>\n",
       "      <td>128</td>\n",
       "      <td>218693</td>\n",
       "      <td>3.430207</td>\n",
       "      <td>0</td>\n",
       "    </tr>\n",
       "    <tr>\n",
       "      <th>20</th>\n",
       "      <td>1524180600000</td>\n",
       "      <td>0.000016</td>\n",
       "      <td>0.000016</td>\n",
       "      <td>0.000016</td>\n",
       "      <td>0.000016</td>\n",
       "      <td>1000423</td>\n",
       "      <td>1524182399999</td>\n",
       "      <td>15.956855</td>\n",
       "      <td>760</td>\n",
       "      <td>533027</td>\n",
       "      <td>8.508221</td>\n",
       "      <td>0</td>\n",
       "    </tr>\n",
       "    <tr>\n",
       "      <th>21</th>\n",
       "      <td>1524182400000</td>\n",
       "      <td>0.000016</td>\n",
       "      <td>0.000016</td>\n",
       "      <td>0.000016</td>\n",
       "      <td>0.000016</td>\n",
       "      <td>721839</td>\n",
       "      <td>1524184199999</td>\n",
       "      <td>11.539870</td>\n",
       "      <td>430</td>\n",
       "      <td>181818</td>\n",
       "      <td>2.915158</td>\n",
       "      <td>0</td>\n",
       "    </tr>\n",
       "    <tr>\n",
       "      <th>22</th>\n",
       "      <td>1524184200000</td>\n",
       "      <td>0.000016</td>\n",
       "      <td>0.000017</td>\n",
       "      <td>0.000016</td>\n",
       "      <td>0.000017</td>\n",
       "      <td>12378467</td>\n",
       "      <td>1524185999999</td>\n",
       "      <td>207.523993</td>\n",
       "      <td>3245</td>\n",
       "      <td>9676653</td>\n",
       "      <td>162.908960</td>\n",
       "      <td>0</td>\n",
       "    </tr>\n",
       "    <tr>\n",
       "      <th>23</th>\n",
       "      <td>1524186000000</td>\n",
       "      <td>0.000017</td>\n",
       "      <td>0.000017</td>\n",
       "      <td>0.000016</td>\n",
       "      <td>0.000016</td>\n",
       "      <td>2142682</td>\n",
       "      <td>1524187799999</td>\n",
       "      <td>34.756032</td>\n",
       "      <td>1253</td>\n",
       "      <td>768106</td>\n",
       "      <td>12.461871</td>\n",
       "      <td>0</td>\n",
       "    </tr>\n",
       "    <tr>\n",
       "      <th>24</th>\n",
       "      <td>1524187800000</td>\n",
       "      <td>0.000016</td>\n",
       "      <td>0.000016</td>\n",
       "      <td>0.000016</td>\n",
       "      <td>0.000016</td>\n",
       "      <td>436559</td>\n",
       "      <td>1524189599999</td>\n",
       "      <td>6.972368</td>\n",
       "      <td>310</td>\n",
       "      <td>188026</td>\n",
       "      <td>3.004597</td>\n",
       "      <td>0</td>\n",
       "    </tr>\n",
       "    <tr>\n",
       "      <th>25</th>\n",
       "      <td>1524189600000</td>\n",
       "      <td>0.000016</td>\n",
       "      <td>0.000016</td>\n",
       "      <td>0.000016</td>\n",
       "      <td>0.000016</td>\n",
       "      <td>430126</td>\n",
       "      <td>1524191399999</td>\n",
       "      <td>6.899787</td>\n",
       "      <td>283</td>\n",
       "      <td>144359</td>\n",
       "      <td>2.318997</td>\n",
       "      <td>0</td>\n",
       "    </tr>\n",
       "    <tr>\n",
       "      <th>26</th>\n",
       "      <td>1524191400000</td>\n",
       "      <td>0.000016</td>\n",
       "      <td>0.000016</td>\n",
       "      <td>0.000016</td>\n",
       "      <td>0.000016</td>\n",
       "      <td>230681</td>\n",
       "      <td>1524193199999</td>\n",
       "      <td>3.694524</td>\n",
       "      <td>197</td>\n",
       "      <td>124517</td>\n",
       "      <td>1.996401</td>\n",
       "      <td>0</td>\n",
       "    </tr>\n",
       "    <tr>\n",
       "      <th>27</th>\n",
       "      <td>1524193200000</td>\n",
       "      <td>0.000016</td>\n",
       "      <td>0.000016</td>\n",
       "      <td>0.000016</td>\n",
       "      <td>0.000016</td>\n",
       "      <td>217700</td>\n",
       "      <td>1524194999999</td>\n",
       "      <td>3.483911</td>\n",
       "      <td>189</td>\n",
       "      <td>169742</td>\n",
       "      <td>2.716888</td>\n",
       "      <td>0</td>\n",
       "    </tr>\n",
       "    <tr>\n",
       "      <th>28</th>\n",
       "      <td>1524195000000</td>\n",
       "      <td>0.000016</td>\n",
       "      <td>0.000016</td>\n",
       "      <td>0.000016</td>\n",
       "      <td>0.000016</td>\n",
       "      <td>216477</td>\n",
       "      <td>1524196799999</td>\n",
       "      <td>3.466922</td>\n",
       "      <td>163</td>\n",
       "      <td>140185</td>\n",
       "      <td>2.247452</td>\n",
       "      <td>0</td>\n",
       "    </tr>\n",
       "    <tr>\n",
       "      <th>29</th>\n",
       "      <td>1524196800000</td>\n",
       "      <td>0.000016</td>\n",
       "      <td>0.000016</td>\n",
       "      <td>0.000016</td>\n",
       "      <td>0.000016</td>\n",
       "      <td>395874</td>\n",
       "      <td>1524198599999</td>\n",
       "      <td>6.357734</td>\n",
       "      <td>233</td>\n",
       "      <td>184604</td>\n",
       "      <td>2.968768</td>\n",
       "      <td>0</td>\n",
       "    </tr>\n",
       "    <tr>\n",
       "      <th>...</th>\n",
       "      <td>...</td>\n",
       "      <td>...</td>\n",
       "      <td>...</td>\n",
       "      <td>...</td>\n",
       "      <td>...</td>\n",
       "      <td>...</td>\n",
       "      <td>...</td>\n",
       "      <td>...</td>\n",
       "      <td>...</td>\n",
       "      <td>...</td>\n",
       "      <td>...</td>\n",
       "      <td>...</td>\n",
       "    </tr>\n",
       "    <tr>\n",
       "      <th>470</th>\n",
       "      <td>1524990600000</td>\n",
       "      <td>0.000025</td>\n",
       "      <td>0.000025</td>\n",
       "      <td>0.000023</td>\n",
       "      <td>0.000023</td>\n",
       "      <td>4368765</td>\n",
       "      <td>1524992399999</td>\n",
       "      <td>105.347007</td>\n",
       "      <td>2802</td>\n",
       "      <td>2061291</td>\n",
       "      <td>49.759234</td>\n",
       "      <td>0</td>\n",
       "    </tr>\n",
       "    <tr>\n",
       "      <th>471</th>\n",
       "      <td>1524992400000</td>\n",
       "      <td>0.000023</td>\n",
       "      <td>0.000023</td>\n",
       "      <td>0.000022</td>\n",
       "      <td>0.000023</td>\n",
       "      <td>3862658</td>\n",
       "      <td>1524994199999</td>\n",
       "      <td>87.620125</td>\n",
       "      <td>1842</td>\n",
       "      <td>2664887</td>\n",
       "      <td>60.533114</td>\n",
       "      <td>0</td>\n",
       "    </tr>\n",
       "    <tr>\n",
       "      <th>472</th>\n",
       "      <td>1524994200000</td>\n",
       "      <td>0.000023</td>\n",
       "      <td>0.000023</td>\n",
       "      <td>0.000023</td>\n",
       "      <td>0.000023</td>\n",
       "      <td>943297</td>\n",
       "      <td>1524995999999</td>\n",
       "      <td>21.573866</td>\n",
       "      <td>488</td>\n",
       "      <td>654236</td>\n",
       "      <td>14.975461</td>\n",
       "      <td>0</td>\n",
       "    </tr>\n",
       "    <tr>\n",
       "      <th>473</th>\n",
       "      <td>1524996000000</td>\n",
       "      <td>0.000023</td>\n",
       "      <td>0.000023</td>\n",
       "      <td>0.000023</td>\n",
       "      <td>0.000023</td>\n",
       "      <td>918476</td>\n",
       "      <td>1524997799999</td>\n",
       "      <td>21.025166</td>\n",
       "      <td>362</td>\n",
       "      <td>720886</td>\n",
       "      <td>16.507561</td>\n",
       "      <td>0</td>\n",
       "    </tr>\n",
       "    <tr>\n",
       "      <th>474</th>\n",
       "      <td>1524997800000</td>\n",
       "      <td>0.000023</td>\n",
       "      <td>0.000023</td>\n",
       "      <td>0.000022</td>\n",
       "      <td>0.000022</td>\n",
       "      <td>1064932</td>\n",
       "      <td>1524999599999</td>\n",
       "      <td>23.838954</td>\n",
       "      <td>1029</td>\n",
       "      <td>647441</td>\n",
       "      <td>14.479630</td>\n",
       "      <td>0</td>\n",
       "    </tr>\n",
       "    <tr>\n",
       "      <th>475</th>\n",
       "      <td>1524999600000</td>\n",
       "      <td>0.000022</td>\n",
       "      <td>0.000023</td>\n",
       "      <td>0.000022</td>\n",
       "      <td>0.000023</td>\n",
       "      <td>471271</td>\n",
       "      <td>1525001399999</td>\n",
       "      <td>10.657468</td>\n",
       "      <td>315</td>\n",
       "      <td>306149</td>\n",
       "      <td>6.921388</td>\n",
       "      <td>0</td>\n",
       "    </tr>\n",
       "    <tr>\n",
       "      <th>476</th>\n",
       "      <td>1525001400000</td>\n",
       "      <td>0.000023</td>\n",
       "      <td>0.000023</td>\n",
       "      <td>0.000023</td>\n",
       "      <td>0.000023</td>\n",
       "      <td>718502</td>\n",
       "      <td>1525003199999</td>\n",
       "      <td>16.470799</td>\n",
       "      <td>203</td>\n",
       "      <td>670150</td>\n",
       "      <td>15.363740</td>\n",
       "      <td>0</td>\n",
       "    </tr>\n",
       "    <tr>\n",
       "      <th>477</th>\n",
       "      <td>1525003200000</td>\n",
       "      <td>0.000023</td>\n",
       "      <td>0.000024</td>\n",
       "      <td>0.000023</td>\n",
       "      <td>0.000024</td>\n",
       "      <td>1476587</td>\n",
       "      <td>1525004999999</td>\n",
       "      <td>34.680143</td>\n",
       "      <td>1373</td>\n",
       "      <td>870546</td>\n",
       "      <td>20.337583</td>\n",
       "      <td>0</td>\n",
       "    </tr>\n",
       "    <tr>\n",
       "      <th>478</th>\n",
       "      <td>1525005000000</td>\n",
       "      <td>0.000024</td>\n",
       "      <td>0.000024</td>\n",
       "      <td>0.000023</td>\n",
       "      <td>0.000023</td>\n",
       "      <td>558675</td>\n",
       "      <td>1525006799999</td>\n",
       "      <td>13.160119</td>\n",
       "      <td>634</td>\n",
       "      <td>303575</td>\n",
       "      <td>7.147059</td>\n",
       "      <td>0</td>\n",
       "    </tr>\n",
       "    <tr>\n",
       "      <th>479</th>\n",
       "      <td>1525006800000</td>\n",
       "      <td>0.000023</td>\n",
       "      <td>0.000024</td>\n",
       "      <td>0.000023</td>\n",
       "      <td>0.000023</td>\n",
       "      <td>231465</td>\n",
       "      <td>1525008599999</td>\n",
       "      <td>5.424897</td>\n",
       "      <td>182</td>\n",
       "      <td>182798</td>\n",
       "      <td>4.284730</td>\n",
       "      <td>0</td>\n",
       "    </tr>\n",
       "    <tr>\n",
       "      <th>480</th>\n",
       "      <td>1525008600000</td>\n",
       "      <td>0.000023</td>\n",
       "      <td>0.000024</td>\n",
       "      <td>0.000023</td>\n",
       "      <td>0.000024</td>\n",
       "      <td>443855</td>\n",
       "      <td>1525010399999</td>\n",
       "      <td>10.381823</td>\n",
       "      <td>464</td>\n",
       "      <td>252162</td>\n",
       "      <td>5.898720</td>\n",
       "      <td>0</td>\n",
       "    </tr>\n",
       "    <tr>\n",
       "      <th>481</th>\n",
       "      <td>1525010400000</td>\n",
       "      <td>0.000024</td>\n",
       "      <td>0.000024</td>\n",
       "      <td>0.000023</td>\n",
       "      <td>0.000023</td>\n",
       "      <td>420027</td>\n",
       "      <td>1525012199999</td>\n",
       "      <td>9.841169</td>\n",
       "      <td>369</td>\n",
       "      <td>308901</td>\n",
       "      <td>7.243428</td>\n",
       "      <td>0</td>\n",
       "    </tr>\n",
       "    <tr>\n",
       "      <th>482</th>\n",
       "      <td>1525012200000</td>\n",
       "      <td>0.000023</td>\n",
       "      <td>0.000024</td>\n",
       "      <td>0.000023</td>\n",
       "      <td>0.000024</td>\n",
       "      <td>617682</td>\n",
       "      <td>1525013999999</td>\n",
       "      <td>14.504088</td>\n",
       "      <td>435</td>\n",
       "      <td>292773</td>\n",
       "      <td>6.895781</td>\n",
       "      <td>0</td>\n",
       "    </tr>\n",
       "    <tr>\n",
       "      <th>483</th>\n",
       "      <td>1525014000000</td>\n",
       "      <td>0.000024</td>\n",
       "      <td>0.000025</td>\n",
       "      <td>0.000024</td>\n",
       "      <td>0.000025</td>\n",
       "      <td>880867</td>\n",
       "      <td>1525015799999</td>\n",
       "      <td>21.321573</td>\n",
       "      <td>850</td>\n",
       "      <td>657422</td>\n",
       "      <td>15.883841</td>\n",
       "      <td>0</td>\n",
       "    </tr>\n",
       "    <tr>\n",
       "      <th>484</th>\n",
       "      <td>1525015800000</td>\n",
       "      <td>0.000025</td>\n",
       "      <td>0.000025</td>\n",
       "      <td>0.000024</td>\n",
       "      <td>0.000024</td>\n",
       "      <td>1294579</td>\n",
       "      <td>1525017599999</td>\n",
       "      <td>31.970412</td>\n",
       "      <td>1522</td>\n",
       "      <td>786416</td>\n",
       "      <td>19.438967</td>\n",
       "      <td>0</td>\n",
       "    </tr>\n",
       "    <tr>\n",
       "      <th>485</th>\n",
       "      <td>1525017600000</td>\n",
       "      <td>0.000024</td>\n",
       "      <td>0.000025</td>\n",
       "      <td>0.000024</td>\n",
       "      <td>0.000025</td>\n",
       "      <td>1171542</td>\n",
       "      <td>1525019399999</td>\n",
       "      <td>29.215764</td>\n",
       "      <td>894</td>\n",
       "      <td>615668</td>\n",
       "      <td>15.409727</td>\n",
       "      <td>0</td>\n",
       "    </tr>\n",
       "    <tr>\n",
       "      <th>486</th>\n",
       "      <td>1525019400000</td>\n",
       "      <td>0.000025</td>\n",
       "      <td>0.000025</td>\n",
       "      <td>0.000025</td>\n",
       "      <td>0.000025</td>\n",
       "      <td>922485</td>\n",
       "      <td>1525021199999</td>\n",
       "      <td>23.075634</td>\n",
       "      <td>804</td>\n",
       "      <td>607422</td>\n",
       "      <td>15.202390</td>\n",
       "      <td>0</td>\n",
       "    </tr>\n",
       "    <tr>\n",
       "      <th>487</th>\n",
       "      <td>1525021200000</td>\n",
       "      <td>0.000025</td>\n",
       "      <td>0.000025</td>\n",
       "      <td>0.000024</td>\n",
       "      <td>0.000025</td>\n",
       "      <td>898105</td>\n",
       "      <td>1525022999999</td>\n",
       "      <td>22.107023</td>\n",
       "      <td>1058</td>\n",
       "      <td>425819</td>\n",
       "      <td>10.483638</td>\n",
       "      <td>0</td>\n",
       "    </tr>\n",
       "    <tr>\n",
       "      <th>488</th>\n",
       "      <td>1525023000000</td>\n",
       "      <td>0.000025</td>\n",
       "      <td>0.000025</td>\n",
       "      <td>0.000024</td>\n",
       "      <td>0.000025</td>\n",
       "      <td>501698</td>\n",
       "      <td>1525024799999</td>\n",
       "      <td>12.367230</td>\n",
       "      <td>871</td>\n",
       "      <td>268514</td>\n",
       "      <td>6.632672</td>\n",
       "      <td>0</td>\n",
       "    </tr>\n",
       "    <tr>\n",
       "      <th>489</th>\n",
       "      <td>1525024800000</td>\n",
       "      <td>0.000025</td>\n",
       "      <td>0.000025</td>\n",
       "      <td>0.000025</td>\n",
       "      <td>0.000025</td>\n",
       "      <td>375135</td>\n",
       "      <td>1525026599999</td>\n",
       "      <td>9.417311</td>\n",
       "      <td>594</td>\n",
       "      <td>235360</td>\n",
       "      <td>5.908667</td>\n",
       "      <td>0</td>\n",
       "    </tr>\n",
       "    <tr>\n",
       "      <th>490</th>\n",
       "      <td>1525026600000</td>\n",
       "      <td>0.000025</td>\n",
       "      <td>0.000025</td>\n",
       "      <td>0.000025</td>\n",
       "      <td>0.000025</td>\n",
       "      <td>437934</td>\n",
       "      <td>1525028399999</td>\n",
       "      <td>11.051006</td>\n",
       "      <td>501</td>\n",
       "      <td>293095</td>\n",
       "      <td>7.402949</td>\n",
       "      <td>0</td>\n",
       "    </tr>\n",
       "    <tr>\n",
       "      <th>491</th>\n",
       "      <td>1525028400000</td>\n",
       "      <td>0.000025</td>\n",
       "      <td>0.000025</td>\n",
       "      <td>0.000025</td>\n",
       "      <td>0.000025</td>\n",
       "      <td>247632</td>\n",
       "      <td>1525030199999</td>\n",
       "      <td>6.250625</td>\n",
       "      <td>342</td>\n",
       "      <td>184558</td>\n",
       "      <td>4.660886</td>\n",
       "      <td>0</td>\n",
       "    </tr>\n",
       "    <tr>\n",
       "      <th>492</th>\n",
       "      <td>1525030200000</td>\n",
       "      <td>0.000025</td>\n",
       "      <td>0.000025</td>\n",
       "      <td>0.000025</td>\n",
       "      <td>0.000025</td>\n",
       "      <td>220697</td>\n",
       "      <td>1525031999999</td>\n",
       "      <td>5.566749</td>\n",
       "      <td>311</td>\n",
       "      <td>164651</td>\n",
       "      <td>4.156882</td>\n",
       "      <td>0</td>\n",
       "    </tr>\n",
       "    <tr>\n",
       "      <th>493</th>\n",
       "      <td>1525032000000</td>\n",
       "      <td>0.000025</td>\n",
       "      <td>0.000025</td>\n",
       "      <td>0.000025</td>\n",
       "      <td>0.000025</td>\n",
       "      <td>192467</td>\n",
       "      <td>1525033799999</td>\n",
       "      <td>4.842744</td>\n",
       "      <td>207</td>\n",
       "      <td>101221</td>\n",
       "      <td>2.549482</td>\n",
       "      <td>0</td>\n",
       "    </tr>\n",
       "    <tr>\n",
       "      <th>494</th>\n",
       "      <td>1525033800000</td>\n",
       "      <td>0.000025</td>\n",
       "      <td>0.000025</td>\n",
       "      <td>0.000025</td>\n",
       "      <td>0.000025</td>\n",
       "      <td>113830</td>\n",
       "      <td>1525035599999</td>\n",
       "      <td>2.881775</td>\n",
       "      <td>142</td>\n",
       "      <td>82144</td>\n",
       "      <td>2.080913</td>\n",
       "      <td>0</td>\n",
       "    </tr>\n",
       "    <tr>\n",
       "      <th>495</th>\n",
       "      <td>1525035600000</td>\n",
       "      <td>0.000025</td>\n",
       "      <td>0.000026</td>\n",
       "      <td>0.000025</td>\n",
       "      <td>0.000026</td>\n",
       "      <td>240150</td>\n",
       "      <td>1525037399999</td>\n",
       "      <td>6.101608</td>\n",
       "      <td>347</td>\n",
       "      <td>208362</td>\n",
       "      <td>5.295735</td>\n",
       "      <td>0</td>\n",
       "    </tr>\n",
       "    <tr>\n",
       "      <th>496</th>\n",
       "      <td>1525037400000</td>\n",
       "      <td>0.000026</td>\n",
       "      <td>0.000026</td>\n",
       "      <td>0.000025</td>\n",
       "      <td>0.000025</td>\n",
       "      <td>338199</td>\n",
       "      <td>1525039199999</td>\n",
       "      <td>8.624852</td>\n",
       "      <td>492</td>\n",
       "      <td>139578</td>\n",
       "      <td>3.560585</td>\n",
       "      <td>0</td>\n",
       "    </tr>\n",
       "    <tr>\n",
       "      <th>497</th>\n",
       "      <td>1525039200000</td>\n",
       "      <td>0.000025</td>\n",
       "      <td>0.000026</td>\n",
       "      <td>0.000025</td>\n",
       "      <td>0.000025</td>\n",
       "      <td>167722</td>\n",
       "      <td>1525040999999</td>\n",
       "      <td>4.269649</td>\n",
       "      <td>288</td>\n",
       "      <td>114704</td>\n",
       "      <td>2.922953</td>\n",
       "      <td>0</td>\n",
       "    </tr>\n",
       "    <tr>\n",
       "      <th>498</th>\n",
       "      <td>1525041000000</td>\n",
       "      <td>0.000025</td>\n",
       "      <td>0.000026</td>\n",
       "      <td>0.000025</td>\n",
       "      <td>0.000026</td>\n",
       "      <td>168922</td>\n",
       "      <td>1525042799999</td>\n",
       "      <td>4.303225</td>\n",
       "      <td>229</td>\n",
       "      <td>99603</td>\n",
       "      <td>2.539854</td>\n",
       "      <td>0</td>\n",
       "    </tr>\n",
       "    <tr>\n",
       "      <th>499</th>\n",
       "      <td>1525042800000</td>\n",
       "      <td>0.000026</td>\n",
       "      <td>0.000026</td>\n",
       "      <td>0.000025</td>\n",
       "      <td>0.000026</td>\n",
       "      <td>120499</td>\n",
       "      <td>1525044599999</td>\n",
       "      <td>3.075433</td>\n",
       "      <td>197</td>\n",
       "      <td>80596</td>\n",
       "      <td>2.057362</td>\n",
       "      <td>0</td>\n",
       "    </tr>\n",
       "  </tbody>\n",
       "</table>\n",
       "<p>500 rows × 12 columns</p>\n",
       "</div>"
      ],
      "text/plain": [
       "                0         1         2         3         4         5   \\\n",
       "0    1524144600000  0.000015  0.000015  0.000015  0.000015    355876   \n",
       "1    1524146400000  0.000015  0.000015  0.000015  0.000015    145019   \n",
       "2    1524148200000  0.000015  0.000015  0.000015  0.000015    641795   \n",
       "3    1524150000000  0.000015  0.000015  0.000015  0.000015    386059   \n",
       "4    1524151800000  0.000015  0.000015  0.000015  0.000015    160452   \n",
       "5    1524153600000  0.000015  0.000015  0.000015  0.000015    359600   \n",
       "6    1524155400000  0.000015  0.000016  0.000015  0.000016    651668   \n",
       "7    1524157200000  0.000016  0.000016  0.000016  0.000016    752021   \n",
       "8    1524159000000  0.000016  0.000016  0.000016  0.000016    358862   \n",
       "9    1524160800000  0.000016  0.000016  0.000016  0.000016    406850   \n",
       "10   1524162600000  0.000016  0.000016  0.000016  0.000016    369033   \n",
       "11   1524164400000  0.000016  0.000016  0.000016  0.000016     56800   \n",
       "12   1524166200000  0.000016  0.000016  0.000016  0.000016     82841   \n",
       "13   1524168000000  0.000016  0.000016  0.000016  0.000016    169271   \n",
       "14   1524169800000  0.000016  0.000016  0.000016  0.000016     84594   \n",
       "15   1524171600000  0.000016  0.000016  0.000016  0.000016    113172   \n",
       "16   1524173400000  0.000016  0.000016  0.000016  0.000016     84166   \n",
       "17   1524175200000  0.000016  0.000016  0.000016  0.000016     90874   \n",
       "18   1524177000000  0.000016  0.000016  0.000016  0.000016    125610   \n",
       "19   1524178800000  0.000016  0.000016  0.000016  0.000016    322273   \n",
       "20   1524180600000  0.000016  0.000016  0.000016  0.000016   1000423   \n",
       "21   1524182400000  0.000016  0.000016  0.000016  0.000016    721839   \n",
       "22   1524184200000  0.000016  0.000017  0.000016  0.000017  12378467   \n",
       "23   1524186000000  0.000017  0.000017  0.000016  0.000016   2142682   \n",
       "24   1524187800000  0.000016  0.000016  0.000016  0.000016    436559   \n",
       "25   1524189600000  0.000016  0.000016  0.000016  0.000016    430126   \n",
       "26   1524191400000  0.000016  0.000016  0.000016  0.000016    230681   \n",
       "27   1524193200000  0.000016  0.000016  0.000016  0.000016    217700   \n",
       "28   1524195000000  0.000016  0.000016  0.000016  0.000016    216477   \n",
       "29   1524196800000  0.000016  0.000016  0.000016  0.000016    395874   \n",
       "..             ...       ...       ...       ...       ...       ...   \n",
       "470  1524990600000  0.000025  0.000025  0.000023  0.000023   4368765   \n",
       "471  1524992400000  0.000023  0.000023  0.000022  0.000023   3862658   \n",
       "472  1524994200000  0.000023  0.000023  0.000023  0.000023    943297   \n",
       "473  1524996000000  0.000023  0.000023  0.000023  0.000023    918476   \n",
       "474  1524997800000  0.000023  0.000023  0.000022  0.000022   1064932   \n",
       "475  1524999600000  0.000022  0.000023  0.000022  0.000023    471271   \n",
       "476  1525001400000  0.000023  0.000023  0.000023  0.000023    718502   \n",
       "477  1525003200000  0.000023  0.000024  0.000023  0.000024   1476587   \n",
       "478  1525005000000  0.000024  0.000024  0.000023  0.000023    558675   \n",
       "479  1525006800000  0.000023  0.000024  0.000023  0.000023    231465   \n",
       "480  1525008600000  0.000023  0.000024  0.000023  0.000024    443855   \n",
       "481  1525010400000  0.000024  0.000024  0.000023  0.000023    420027   \n",
       "482  1525012200000  0.000023  0.000024  0.000023  0.000024    617682   \n",
       "483  1525014000000  0.000024  0.000025  0.000024  0.000025    880867   \n",
       "484  1525015800000  0.000025  0.000025  0.000024  0.000024   1294579   \n",
       "485  1525017600000  0.000024  0.000025  0.000024  0.000025   1171542   \n",
       "486  1525019400000  0.000025  0.000025  0.000025  0.000025    922485   \n",
       "487  1525021200000  0.000025  0.000025  0.000024  0.000025    898105   \n",
       "488  1525023000000  0.000025  0.000025  0.000024  0.000025    501698   \n",
       "489  1525024800000  0.000025  0.000025  0.000025  0.000025    375135   \n",
       "490  1525026600000  0.000025  0.000025  0.000025  0.000025    437934   \n",
       "491  1525028400000  0.000025  0.000025  0.000025  0.000025    247632   \n",
       "492  1525030200000  0.000025  0.000025  0.000025  0.000025    220697   \n",
       "493  1525032000000  0.000025  0.000025  0.000025  0.000025    192467   \n",
       "494  1525033800000  0.000025  0.000025  0.000025  0.000025    113830   \n",
       "495  1525035600000  0.000025  0.000026  0.000025  0.000026    240150   \n",
       "496  1525037400000  0.000026  0.000026  0.000025  0.000025    338199   \n",
       "497  1525039200000  0.000025  0.000026  0.000025  0.000025    167722   \n",
       "498  1525041000000  0.000025  0.000026  0.000025  0.000026    168922   \n",
       "499  1525042800000  0.000026  0.000026  0.000025  0.000026    120499   \n",
       "\n",
       "                6           7     8        9           10  11  \n",
       "0    1524146399999    5.358770   237   216418    3.262079   0  \n",
       "1    1524148199999    2.189291   131   111413    1.682223   0  \n",
       "2    1524149999999    9.747603   322   499708    7.595295   0  \n",
       "3    1524151799999    5.873750   333   228804    3.483970   0  \n",
       "4    1524153599999    2.451541   109   113557    1.736596   0  \n",
       "5    1524155399999    5.507547   155   302959    4.640723   0  \n",
       "6    1524157199999   10.077956   470   560813    8.672443   0  \n",
       "7    1524158999999   11.878222   704   512634    8.104228   0  \n",
       "8    1524160799999    5.699494   277   265077    4.212349   0  \n",
       "9    1524162599999    6.442234   228   270495    4.286093   0  \n",
       "10   1524164399999    5.800472   131    99815    1.574499   0  \n",
       "11   1524166199999    0.893841    70    26164    0.412201   0  \n",
       "12   1524167999999    1.308425   104    73987    1.168902   0  \n",
       "13   1524169799999    2.676024    91   134890    2.133029   0  \n",
       "14   1524171599999    1.332576    87    61010    0.961476   0  \n",
       "15   1524173399999    1.782732    94    65691    1.036217   0  \n",
       "16   1524175199999    1.330292    75    70542    1.115075   0  \n",
       "17   1524176999999    1.430349   111    11695    0.184732   0  \n",
       "18   1524178799999    1.968707   197    61796    0.969375   0  \n",
       "19   1524180599999    5.054104   128   218693    3.430207   0  \n",
       "20   1524182399999   15.956855   760   533027    8.508221   0  \n",
       "21   1524184199999   11.539870   430   181818    2.915158   0  \n",
       "22   1524185999999  207.523993  3245  9676653  162.908960   0  \n",
       "23   1524187799999   34.756032  1253   768106   12.461871   0  \n",
       "24   1524189599999    6.972368   310   188026    3.004597   0  \n",
       "25   1524191399999    6.899787   283   144359    2.318997   0  \n",
       "26   1524193199999    3.694524   197   124517    1.996401   0  \n",
       "27   1524194999999    3.483911   189   169742    2.716888   0  \n",
       "28   1524196799999    3.466922   163   140185    2.247452   0  \n",
       "29   1524198599999    6.357734   233   184604    2.968768   0  \n",
       "..             ...         ...   ...      ...         ...  ..  \n",
       "470  1524992399999  105.347007  2802  2061291   49.759234   0  \n",
       "471  1524994199999   87.620125  1842  2664887   60.533114   0  \n",
       "472  1524995999999   21.573866   488   654236   14.975461   0  \n",
       "473  1524997799999   21.025166   362   720886   16.507561   0  \n",
       "474  1524999599999   23.838954  1029   647441   14.479630   0  \n",
       "475  1525001399999   10.657468   315   306149    6.921388   0  \n",
       "476  1525003199999   16.470799   203   670150   15.363740   0  \n",
       "477  1525004999999   34.680143  1373   870546   20.337583   0  \n",
       "478  1525006799999   13.160119   634   303575    7.147059   0  \n",
       "479  1525008599999    5.424897   182   182798    4.284730   0  \n",
       "480  1525010399999   10.381823   464   252162    5.898720   0  \n",
       "481  1525012199999    9.841169   369   308901    7.243428   0  \n",
       "482  1525013999999   14.504088   435   292773    6.895781   0  \n",
       "483  1525015799999   21.321573   850   657422   15.883841   0  \n",
       "484  1525017599999   31.970412  1522   786416   19.438967   0  \n",
       "485  1525019399999   29.215764   894   615668   15.409727   0  \n",
       "486  1525021199999   23.075634   804   607422   15.202390   0  \n",
       "487  1525022999999   22.107023  1058   425819   10.483638   0  \n",
       "488  1525024799999   12.367230   871   268514    6.632672   0  \n",
       "489  1525026599999    9.417311   594   235360    5.908667   0  \n",
       "490  1525028399999   11.051006   501   293095    7.402949   0  \n",
       "491  1525030199999    6.250625   342   184558    4.660886   0  \n",
       "492  1525031999999    5.566749   311   164651    4.156882   0  \n",
       "493  1525033799999    4.842744   207   101221    2.549482   0  \n",
       "494  1525035599999    2.881775   142    82144    2.080913   0  \n",
       "495  1525037399999    6.101608   347   208362    5.295735   0  \n",
       "496  1525039199999    8.624852   492   139578    3.560585   0  \n",
       "497  1525040999999    4.269649   288   114704    2.922953   0  \n",
       "498  1525042799999    4.303225   229    99603    2.539854   0  \n",
       "499  1525044599999    3.075433   197    80596    2.057362   0  \n",
       "\n",
       "[500 rows x 12 columns]"
      ]
     },
     "execution_count": 347,
     "metadata": {},
     "output_type": "execute_result"
    }
   ],
   "source": [
    "df"
   ]
  },
  {
   "cell_type": "code",
   "execution_count": null,
   "metadata": {},
   "outputs": [],
   "source": []
  }
 ],
 "metadata": {
  "kernelspec": {
   "display_name": "Python 3",
   "language": "python",
   "name": "python3"
  },
  "language_info": {
   "codemirror_mode": {
    "name": "ipython",
    "version": 3
   },
   "file_extension": ".py",
   "mimetype": "text/x-python",
   "name": "python",
   "nbconvert_exporter": "python",
   "pygments_lexer": "ipython3",
   "version": "3.6.4"
  }
 },
 "nbformat": 4,
 "nbformat_minor": 2
}
