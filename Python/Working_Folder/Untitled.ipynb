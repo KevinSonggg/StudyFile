{
 "cells": [
  {
   "cell_type": "code",
   "execution_count": 90,
   "metadata": {},
   "outputs": [],
   "source": [
    "import json\n",
    "import requests\n",
    "from IPython.display import clear_output"
   ]
  },
  {
   "cell_type": "code",
   "execution_count": 111,
   "metadata": {},
   "outputs": [],
   "source": [
    "api_url_base= 'https://api.binance.com'"
   ]
  },
  {
   "cell_type": "code",
   "execution_count": 112,
   "metadata": {},
   "outputs": [
    {
     "data": {
      "text/plain": [
       "<Response [200]>"
      ]
     },
     "execution_count": 112,
     "metadata": {},
     "output_type": "execute_result"
    }
   ],
   "source": [
    "requests.get(api_url_base)"
   ]
  },
  {
   "cell_type": "code",
   "execution_count": 127,
   "metadata": {},
   "outputs": [],
   "source": [
    "k = requests.get(api_url_base+'/api/'+'v3'+'/'+'ticker/price',params={'symbol':'ETHUSDT'})"
   ]
  },
  {
   "cell_type": "code",
   "execution_count": 128,
   "metadata": {},
   "outputs": [
    {
     "data": {
      "text/plain": [
       "'{\"symbol\":\"ETHUSDT\",\"price\":\"601.35000000\"}'"
      ]
     },
     "execution_count": 128,
     "metadata": {},
     "output_type": "execute_result"
    }
   ],
   "source": [
    "k.content.decode('utf-8')"
   ]
  },
  {
   "cell_type": "code",
   "execution_count": 137,
   "metadata": {},
   "outputs": [
    {
     "data": {
      "text/plain": [
       "{'price': '601.35000000', 'symbol': 'ETHUSDT'}"
      ]
     },
     "execution_count": 137,
     "metadata": {},
     "output_type": "execute_result"
    }
   ],
   "source": [
    "json.loads(k.content.decode('utf-8'))"
   ]
  },
  {
   "cell_type": "code",
   "execution_count": 132,
   "metadata": {},
   "outputs": [],
   "source": [
    "y = requests.get(api_url_base+'/api/'+'v1'+'/'+'trades',params={'symbol':'ETHUSDT'})"
   ]
  },
  {
   "cell_type": "code",
   "execution_count": 136,
   "metadata": {},
   "outputs": [
    {
     "ename": "NameError",
     "evalue": "name 'content_clear' is not defined",
     "output_type": "error",
     "traceback": [
      "\u001b[0;31m---------------------------------------------------------------------------\u001b[0m",
      "\u001b[0;31mNameError\u001b[0m                                 Traceback (most recent call last)",
      "\u001b[0;32m<ipython-input-136-8a2649dea247>\u001b[0m in \u001b[0;36m<module>\u001b[0;34m()\u001b[0m\n\u001b[1;32m      1\u001b[0m \u001b[0mjson\u001b[0m\u001b[0;34m.\u001b[0m\u001b[0mloads\u001b[0m\u001b[0;34m(\u001b[0m\u001b[0my\u001b[0m\u001b[0;34m.\u001b[0m\u001b[0mcontent\u001b[0m\u001b[0;34m.\u001b[0m\u001b[0mdecode\u001b[0m\u001b[0;34m(\u001b[0m\u001b[0;34m'utf-8'\u001b[0m\u001b[0;34m)\u001b[0m\u001b[0;34m)\u001b[0m\u001b[0;34m\u001b[0m\u001b[0m\n\u001b[0;32m----> 2\u001b[0;31m \u001b[0mcontent_clear\u001b[0m\u001b[0;34m(\u001b[0m\u001b[0;34m)\u001b[0m\u001b[0;34m\u001b[0m\u001b[0m\n\u001b[0m",
      "\u001b[0;31mNameError\u001b[0m: name 'content_clear' is not defined"
     ]
    }
   ],
   "source": [
    "json.loads(y.content.decode('utf-8'))\n",
    "content_clear()"
   ]
  },
  {
   "cell_type": "code",
   "execution_count": 134,
   "metadata": {},
   "outputs": [],
   "source": [
    "import pandas as pd"
   ]
  },
  {
   "cell_type": "code",
   "execution_count": 139,
   "metadata": {},
   "outputs": [
    {
     "data": {
      "text/plain": [
       "0      {'id': 21628278, 'price': '601.58000000', 'qty...\n",
       "1      {'id': 21628279, 'price': '601.17000000', 'qty...\n",
       "2      {'id': 21628280, 'price': '601.20000000', 'qty...\n",
       "3      {'id': 21628281, 'price': '601.40000000', 'qty...\n",
       "4      {'id': 21628282, 'price': '601.40000000', 'qty...\n",
       "5      {'id': 21628283, 'price': '601.56000000', 'qty...\n",
       "6      {'id': 21628284, 'price': '601.56000000', 'qty...\n",
       "7      {'id': 21628285, 'price': '601.58000000', 'qty...\n",
       "8      {'id': 21628286, 'price': '601.60000000', 'qty...\n",
       "9      {'id': 21628287, 'price': '601.60000000', 'qty...\n",
       "10     {'id': 21628288, 'price': '601.57000000', 'qty...\n",
       "11     {'id': 21628289, 'price': '601.60000000', 'qty...\n",
       "12     {'id': 21628290, 'price': '601.66000000', 'qty...\n",
       "13     {'id': 21628291, 'price': '601.66000000', 'qty...\n",
       "14     {'id': 21628292, 'price': '601.66000000', 'qty...\n",
       "15     {'id': 21628293, 'price': '601.33000000', 'qty...\n",
       "16     {'id': 21628294, 'price': '601.66000000', 'qty...\n",
       "17     {'id': 21628295, 'price': '601.66000000', 'qty...\n",
       "18     {'id': 21628296, 'price': '601.65000000', 'qty...\n",
       "19     {'id': 21628297, 'price': '601.66000000', 'qty...\n",
       "20     {'id': 21628298, 'price': '601.57000000', 'qty...\n",
       "21     {'id': 21628299, 'price': '601.57000000', 'qty...\n",
       "22     {'id': 21628300, 'price': '601.57000000', 'qty...\n",
       "23     {'id': 21628301, 'price': '601.57000000', 'qty...\n",
       "24     {'id': 21628302, 'price': '601.66000000', 'qty...\n",
       "25     {'id': 21628303, 'price': '601.66000000', 'qty...\n",
       "26     {'id': 21628304, 'price': '601.56000000', 'qty...\n",
       "27     {'id': 21628305, 'price': '601.66000000', 'qty...\n",
       "28     {'id': 21628306, 'price': '601.66000000', 'qty...\n",
       "29     {'id': 21628307, 'price': '601.66000000', 'qty...\n",
       "                             ...                        \n",
       "470    {'id': 21628748, 'price': '601.35000000', 'qty...\n",
       "471    {'id': 21628749, 'price': '601.35000000', 'qty...\n",
       "472    {'id': 21628750, 'price': '601.85000000', 'qty...\n",
       "473    {'id': 21628751, 'price': '601.86000000', 'qty...\n",
       "474    {'id': 21628752, 'price': '601.86000000', 'qty...\n",
       "475    {'id': 21628753, 'price': '601.86000000', 'qty...\n",
       "476    {'id': 21628754, 'price': '601.20000000', 'qty...\n",
       "477    {'id': 21628755, 'price': '601.19000000', 'qty...\n",
       "478    {'id': 21628756, 'price': '601.80000000', 'qty...\n",
       "479    {'id': 21628757, 'price': '601.81000000', 'qty...\n",
       "480    {'id': 21628758, 'price': '601.82000000', 'qty...\n",
       "481    {'id': 21628759, 'price': '601.83000000', 'qty...\n",
       "482    {'id': 21628760, 'price': '601.85000000', 'qty...\n",
       "483    {'id': 21628761, 'price': '601.85000000', 'qty...\n",
       "484    {'id': 21628762, 'price': '601.86000000', 'qty...\n",
       "485    {'id': 21628763, 'price': '601.86000000', 'qty...\n",
       "486    {'id': 21628764, 'price': '601.86000000', 'qty...\n",
       "487    {'id': 21628765, 'price': '601.24000000', 'qty...\n",
       "488    {'id': 21628766, 'price': '601.27000000', 'qty...\n",
       "489    {'id': 21628767, 'price': '601.27000000', 'qty...\n",
       "490    {'id': 21628768, 'price': '601.26000000', 'qty...\n",
       "491    {'id': 21628769, 'price': '601.25000000', 'qty...\n",
       "492    {'id': 21628770, 'price': '601.24000000', 'qty...\n",
       "493    {'id': 21628771, 'price': '601.17000000', 'qty...\n",
       "494    {'id': 21628772, 'price': '601.78000000', 'qty...\n",
       "495    {'id': 21628773, 'price': '601.92000000', 'qty...\n",
       "496    {'id': 21628774, 'price': '602.00000000', 'qty...\n",
       "497    {'id': 21628775, 'price': '601.24000000', 'qty...\n",
       "498    {'id': 21628776, 'price': '601.23000000', 'qty...\n",
       "499    {'id': 21628777, 'price': '601.70000000', 'qty...\n",
       "Length: 500, dtype: object"
      ]
     },
     "execution_count": 139,
     "metadata": {},
     "output_type": "execute_result"
    }
   ],
   "source": [
    "pd.Series(json.loads(y.content.decode('utf-8')))"
   ]
  },
  {
   "cell_type": "code",
   "execution_count": null,
   "metadata": {},
   "outputs": [],
   "source": []
  },
  {
   "cell_type": "code",
   "execution_count": null,
   "metadata": {},
   "outputs": [],
   "source": []
  },
  {
   "cell_type": "code",
   "execution_count": null,
   "metadata": {},
   "outputs": [],
   "source": []
  },
  {
   "cell_type": "code",
   "execution_count": null,
   "metadata": {},
   "outputs": [],
   "source": []
  },
  {
   "cell_type": "code",
   "execution_count": null,
   "metadata": {},
   "outputs": [],
   "source": []
  },
  {
   "cell_type": "code",
   "execution_count": 51,
   "metadata": {},
   "outputs": [],
   "source": [
    "def _init_session():\n",
    "\n",
    "    session = requests.session()\n",
    "    session.headers.update({'Accept': 'application/json',\n",
    "                            'User-Agent': 'binance/python'})\n",
    "    return session\n",
    "\n",
    "session = _init_session()"
   ]
  },
  {
   "cell_type": "code",
   "execution_count": 69,
   "metadata": {},
   "outputs": [],
   "source": [
    "response = getattr(session, 'get')(uri)\n",
    "json.loads(response.content.decode('utf-8'))\n",
    "clear_output()"
   ]
  },
  {
   "cell_type": "code",
   "execution_count": 42,
   "metadata": {},
   "outputs": [],
   "source": [
    "kwarg = {'check':1}"
   ]
  },
  {
   "cell_type": "code",
   "execution_count": 43,
   "metadata": {},
   "outputs": [],
   "source": [
    "kwarg['check2'] = 2"
   ]
  },
  {
   "cell_type": "code",
   "execution_count": 44,
   "metadata": {},
   "outputs": [
    {
     "data": {
      "text/plain": [
       "{'check': 1, 'check2': 2}"
      ]
     },
     "execution_count": 44,
     "metadata": {},
     "output_type": "execute_result"
    }
   ],
   "source": [
    "kwarg"
   ]
  },
  {
   "cell_type": "code",
   "execution_count": 45,
   "metadata": {},
   "outputs": [
    {
     "data": {
      "text/plain": [
       "3"
      ]
     },
     "execution_count": 45,
     "metadata": {},
     "output_type": "execute_result"
    }
   ],
   "source": [
    "kwarg.get('check3',3)"
   ]
  },
  {
   "cell_type": "code",
   "execution_count": 46,
   "metadata": {},
   "outputs": [
    {
     "data": {
      "text/plain": [
       "{'check': 1, 'check2': 2}"
      ]
     },
     "execution_count": 46,
     "metadata": {},
     "output_type": "execute_result"
    }
   ],
   "source": [
    "kwarg"
   ]
  },
  {
   "cell_type": "code",
   "execution_count": 64,
   "metadata": {},
   "outputs": [],
   "source": []
  },
  {
   "cell_type": "code",
   "execution_count": 65,
   "metadata": {},
   "outputs": [
    {
     "ename": "NameError",
     "evalue": "name 'y' is not defined",
     "output_type": "error",
     "traceback": [
      "\u001b[0;31m---------------------------------------------------------------------------\u001b[0m",
      "\u001b[0;31mNameError\u001b[0m                                 Traceback (most recent call last)",
      "\u001b[0;32m<ipython-input-65-9063a9f0e032>\u001b[0m in \u001b[0;36m<module>\u001b[0;34m()\u001b[0m\n\u001b[0;32m----> 1\u001b[0;31m \u001b[0my\u001b[0m\u001b[0;34m\u001b[0m\u001b[0m\n\u001b[0m",
      "\u001b[0;31mNameError\u001b[0m: name 'y' is not defined"
     ]
    }
   ],
   "source": [
    "y"
   ]
  },
  {
   "cell_type": "code",
   "execution_count": 72,
   "metadata": {},
   "outputs": [],
   "source": [
    "if \"*\\\\d+\" in \"123\":\n",
    "    print(\"True\")"
   ]
  },
  {
   "cell_type": "code",
   "execution_count": 73,
   "metadata": {},
   "outputs": [
    {
     "ename": "NameError",
     "evalue": "name 're' is not defined",
     "output_type": "error",
     "traceback": [
      "\u001b[0;31m---------------------------------------------------------------------------\u001b[0m",
      "\u001b[0;31mNameError\u001b[0m                                 Traceback (most recent call last)",
      "\u001b[0;32m<ipython-input-73-f914145a08bd>\u001b[0m in \u001b[0;36m<module>\u001b[0;34m()\u001b[0m\n\u001b[0;32m----> 1\u001b[0;31m \u001b[0mbool\u001b[0m\u001b[0;34m(\u001b[0m\u001b[0mre\u001b[0m\u001b[0;34m.\u001b[0m\u001b[0msearch\u001b[0m\u001b[0;34m(\u001b[0m\u001b[0;34mr'\\d'\u001b[0m\u001b[0;34m,\u001b[0m \u001b[0;34m'123'\u001b[0m\u001b[0;34m)\u001b[0m\u001b[0;34m)\u001b[0m\u001b[0;34m\u001b[0m\u001b[0m\n\u001b[0m",
      "\u001b[0;31mNameError\u001b[0m: name 're' is not defined"
     ]
    }
   ],
   "source": [
    "bool(re.search(r'\\d', '123'))"
   ]
  },
  {
   "cell_type": "code",
   "execution_count": 74,
   "metadata": {},
   "outputs": [
    {
     "data": {
      "text/plain": [
       "True"
      ]
     },
     "execution_count": 74,
     "metadata": {},
     "output_type": "execute_result"
    }
   ],
   "source": [
    "import re\n",
    "bool(re.search(r'\\d', '123'))"
   ]
  },
  {
   "cell_type": "code",
   "execution_count": 76,
   "metadata": {},
   "outputs": [
    {
     "data": {
      "text/plain": [
       "True"
      ]
     },
     "execution_count": 76,
     "metadata": {},
     "output_type": "execute_result"
    }
   ],
   "source": [
    "bool(re.search(r'[a-b]','1a23'))"
   ]
  },
  {
   "cell_type": "code",
   "execution_count": null,
   "metadata": {},
   "outputs": [],
   "source": []
  }
 ],
 "metadata": {
  "kernelspec": {
   "display_name": "Python 3",
   "language": "python",
   "name": "python3"
  },
  "language_info": {
   "codemirror_mode": {
    "name": "ipython",
    "version": 3
   },
   "file_extension": ".py",
   "mimetype": "text/x-python",
   "name": "python",
   "nbconvert_exporter": "python",
   "pygments_lexer": "ipython3",
   "version": "3.6.4"
  }
 },
 "nbformat": 4,
 "nbformat_minor": 2
}
