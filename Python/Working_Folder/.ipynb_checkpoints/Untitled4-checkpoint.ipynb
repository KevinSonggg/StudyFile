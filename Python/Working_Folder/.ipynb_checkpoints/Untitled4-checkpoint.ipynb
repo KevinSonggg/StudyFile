{
 "cells": [
  {
   "cell_type": "code",
   "execution_count": 1,
   "metadata": {},
   "outputs": [],
   "source": [
    "from random import shuffle"
   ]
  },
  {
   "cell_type": "code",
   "execution_count": 20,
   "metadata": {},
   "outputs": [],
   "source": [
    "x = [i for i in range(10)]\n",
    "y = [i for i in range(10)]"
   ]
  },
  {
   "cell_type": "code",
   "execution_count": 23,
   "metadata": {},
   "outputs": [
    {
     "data": {
      "text/plain": [
       "[2, 8, 1, 0, 9, 4, 3, 7, 6, 5]"
      ]
     },
     "execution_count": 23,
     "metadata": {},
     "output_type": "execute_result"
    }
   ],
   "source": [
    "shuffle(x)\n",
    "x"
   ]
  },
  {
   "cell_type": "code",
   "execution_count": 24,
   "metadata": {},
   "outputs": [
    {
     "data": {
      "text/plain": [
       "[(2, 0),\n",
       " (8, 1),\n",
       " (1, 2),\n",
       " (0, 3),\n",
       " (9, 4),\n",
       " (4, 5),\n",
       " (3, 6),\n",
       " (7, 7),\n",
       " (6, 8),\n",
       " (5, 9)]"
      ]
     },
     "execution_count": 24,
     "metadata": {},
     "output_type": "execute_result"
    }
   ],
   "source": [
    "list(zip(x,y))"
   ]
  },
  {
   "cell_type": "code",
   "execution_count": 33,
   "metadata": {},
   "outputs": [],
   "source": [
    "## Create card\n",
    "color = ['diamonds']*13 + ['clubs']*13 + ['hearst']*13 + ['spades']*13\n",
    "number = ['A','2','3','4','5','6','7','8','9','10','J','Q','K']*4"
   ]
  },
  {
   "cell_type": "code",
   "execution_count": 170,
   "metadata": {},
   "outputs": [],
   "source": [
    "## Create card & shuffle card\n",
    "class card():\n",
    "    color = ['diamonds']*13 + ['clubs']*13 + ['hearst']*13 + ['spades']*13\n",
    "    number = ['A','2','3','4','5','6','7','8','9','10','J','Q','K']*4\n",
    "    \n",
    "    def __init__(self):\n",
    "        self.all_card=list(zip(self.color,self.number))\n",
    "    \n",
    "    def shuffle_card(self):\n",
    "        shuffle(self.all_card)\n",
    "    \n",
    "    def pop_card(self): ## pop out card send to player/dealer's hand\n",
    "        return self.all_card.pop(0) ## pop out the 1st card\n",
    "        ## a good thing about this function is that it returns value of card being poped out, so that we can assign that value to player/dealer's hand"
   ]
  },
  {
   "cell_type": "code",
   "execution_count": 127,
   "metadata": {},
   "outputs": [],
   "source": [
    "## player class\n",
    "class player():\n",
    "    \n",
    "    def __init__(self,balance = 5000,hand=[],score=[0,0],twanty_one=False,bj=False):\n",
    "        self.balance = balance\n",
    "        self.hand = hand   ## need to clear at beginning of game\n",
    "        self.score = score ## need to clear at beginning of game\n",
    "        self.twanty_one = twanty_one ## need to clear at beginning of game\n",
    "        self.bj = bj ## need to clear at beginning of game\n",
    "    \n",
    "    def bet(self): ## player choose to bet \n",
    "        bet_amt = bet_func(self.balance)\n",
    "        self.balance -= bet_amt\n",
    "        return bet_amt"
   ]
  },
  {
   "cell_type": "code",
   "execution_count": 123,
   "metadata": {},
   "outputs": [],
   "source": [
    "## Bet function\n",
    "def bet_func(balance):\n",
    "    while True:\n",
    "        bet = int(input('How much do you want to bet? '))\n",
    "        if bet > balance:\n",
    "            bet = print('Balance insufficient')\n",
    "            continue\n",
    "        else:\n",
    "            break\n",
    "    return bet"
   ]
  },
  {
   "cell_type": "code",
   "execution_count": 125,
   "metadata": {},
   "outputs": [],
   "source": [
    "## dealer class\n",
    "class dealer():\n",
    "    \n",
    "    def __init__(self,hand=[],score=[0,0],bj=False):\n",
    "        self.hand = hand   ## need to clear at beginning of game \n",
    "        self.score = score ## need to clear at beginning of game\n",
    "        self.bj = bj ## need to clear at beginning of game"
   ]
  },
  {
   "cell_type": "code",
   "execution_count": null,
   "metadata": {},
   "outputs": [],
   "source": [
    "## hit function\n",
    "def hit_card(card):\n",
    "    return input('Hit or Stand?').lower() == 'hit':"
   ]
  },
  {
   "cell_type": "code",
   "execution_count": 205,
   "metadata": {},
   "outputs": [],
   "source": [
    "## calculate score\n",
    "def score_check(side):\n",
    "    score = [0,0]\n",
    "    for i in side.hand:\n",
    "        if max(score[0],score[1]) >= 11: ## if score in hand larger than 11, all upcoming Aces can only be treat as 1\n",
    "            score[0] += min(translate_score(i[1])[0],translate_score(i[1])[1]) ## translate_score is a self_defined function\n",
    "            score[1] += min(translate_score(i[1])[0],translate_score(i[1])[1])\n",
    "        else:\n",
    "            score[0] += translate_score(i[1])[0]\n",
    "            score[1] += translate_score(i[1])[1]\n",
    "    return score\n",
    "        "
   ]
  },
  {
   "cell_type": "code",
   "execution_count": 209,
   "metadata": {},
   "outputs": [],
   "source": [
    "## translate function\n",
    "def translate_score(str_score):\n",
    "    if str_score in ['J','Q','K']:\n",
    "        return [10,10]\n",
    "    elif str_score in ['2','3','4','5','6','7','8','9','10']:\n",
    "        return [int(str_score),int(str_score)]\n",
    "    elif str_score == 'A':\n",
    "        return [1,11]\n",
    "    else:\n",
    "        return [0,0]"
   ]
  },
  {
   "cell_type": "code",
   "execution_count": 210,
   "metadata": {},
   "outputs": [],
   "source": [
    "## check bust\n",
    "def bust_check(side):\n",
    "    return min(side.score[0],side.score[1]) > 21 ## True / False bust\n",
    "        "
   ]
  },
  {
   "cell_type": "code",
   "execution_count": 212,
   "metadata": {},
   "outputs": [],
   "source": [
    "## check 21\n",
    "def twanty_one_check(side):\n",
    "    return side.score[0] == 21 or side.score[1] == 21 ##True / False 21"
   ]
  },
  {
   "cell_type": "code",
   "execution_count": 213,
   "metadata": {},
   "outputs": [],
   "source": [
    "## check black jack\n",
    "def bj_check(side):\n",
    "    return side.twanty_one == True and len(side.hand) == 2 ## black jack is reach 21 in first 2 cards"
   ]
  },
  {
   "cell_type": "code",
   "execution_count": 214,
   "metadata": {},
   "outputs": [],
   "source": [
    "## check win\n",
    "def win_check(player,dealer):\n",
    "    if dealer.bj == True:\n",
    "        return True\n",
    "    elif max(dealer.score[0],dealer.score[1]) >= max(player.score[0],player.score[1]):\n",
    "        return True\n",
    "    else:\n",
    "        return False"
   ]
  },
  {
   "cell_type": "code",
   "execution_count": 215,
   "metadata": {},
   "outputs": [
    {
     "ename": "SyntaxError",
     "evalue": "unexpected EOF while parsing (<ipython-input-215-b5fa23736b7b>, line 3)",
     "output_type": "error",
     "traceback": [
      "\u001b[0;36m  File \u001b[0;32m\"<ipython-input-215-b5fa23736b7b>\"\u001b[0;36m, line \u001b[0;32m3\u001b[0m\n\u001b[0;31m    \u001b[0m\n\u001b[0m    ^\u001b[0m\n\u001b[0;31mSyntaxError\u001b[0m\u001b[0;31m:\u001b[0m unexpected EOF while parsing\n"
     ]
    }
   ],
   "source": [
    "## print the pot\n",
    "def print_pot(player,dealer):\n",
    "    "
   ]
  },
  {
   "cell_type": "code",
   "execution_count": 306,
   "metadata": {},
   "outputs": [],
   "source": [
    "def print_pot(dealer,player,reveal=False):\n",
    "    \n",
    "    clear_output() ## clear output\n",
    "    \n",
    "    print('dealer hands:') ## dealer hand\n",
    "    dealer_pot(dealer,reveal)\n",
    "\n",
    "    print('-'*30 +\n",
    "         '\\n' + \n",
    "         'player hands:'\n",
    "         '\\n')\n",
    "    \n",
    "    player_pot(player) ## player hand"
   ]
  },
  {
   "cell_type": "code",
   "execution_count": 276,
   "metadata": {},
   "outputs": [],
   "source": [
    "dealer_1 = dealer()"
   ]
  },
  {
   "cell_type": "code",
   "execution_count": 277,
   "metadata": {},
   "outputs": [],
   "source": [
    "dealer_1.hand = [('spades','7'),('clubs','K')]"
   ]
  },
  {
   "cell_type": "code",
   "execution_count": 280,
   "metadata": {},
   "outputs": [
    {
     "data": {
      "text/plain": [
       "2"
      ]
     },
     "execution_count": 280,
     "metadata": {},
     "output_type": "execute_result"
    }
   ],
   "source": [
    "len(dealer_1.hand)"
   ]
  },
  {
   "cell_type": "code",
   "execution_count": 312,
   "metadata": {},
   "outputs": [],
   "source": [
    "## dealer_pot function\n",
    "def dealer_pot(dealer,reveal):\n",
    "    if reveal == False:\n",
    "                print('-'*10+\n",
    "                     '\\n' +\n",
    "                     '|'+ ' '*8+'|' +\n",
    "                     '\\n' +\n",
    "                     '|' + 'Hidden' + ' ' * 2 +'|' +\n",
    "                     '\\n' +\n",
    "                     '|'+' '*8+'|' +\n",
    "                     '\\n' +\n",
    "                     '|'+' '*8+'|' +\n",
    "                     '\\n' +\n",
    "                     '-'*10 +\n",
    "                     '\\n' +\n",
    "                     '-'*10+ \n",
    "                     '\\n' +\n",
    "                     '|'+dealer_1.hand[1][0] + ' '*(8-len(dealer_1.hand[1][0]))+'|' +\n",
    "                     '\\n' +\n",
    "                     '|'+' '.join(dealer_1.hand[1][1]) + ' '*(8-len(dealer_1.hand[1][1])) +'|' +\n",
    "                     '\\n' +\n",
    "                     '|'+' '*8+'|' +\n",
    "                     '\\n' +\n",
    "                     '|'+' '*8+'|' +\n",
    "                     '\\n' +\n",
    "                     '-'*10 +\n",
    "                     '\\n')\n",
    "    else:\n",
    "        for i in range(0,len(dealer_1.hand)):\n",
    "            print('-'*10+\n",
    "                 '\\n' +\n",
    "                 '|'+dealer_1.hand[i][0] + ' '*(8-len(dealer_1.hand[i][0]))+'|' +\n",
    "                 '\\n' +\n",
    "                 '|'+' '.join(dealer_1.hand[i][1]) + ' '*(8-len(dealer_1.hand[i][1])) +'|' +\n",
    "                 '\\n' +\n",
    "                 '|'+' '*8+'|' +\n",
    "                 '\\n' +\n",
    "                 '|'+' '*8+'|' +\n",
    "                 '\\n' +\n",
    "                 '-'*10)"
   ]
  },
  {
   "cell_type": "code",
   "execution_count": 303,
   "metadata": {},
   "outputs": [
    {
     "name": "stdout",
     "output_type": "stream",
     "text": [
      "----------\n",
      "|        |\n",
      "|Hidden  |\n",
      "|        |\n",
      "|        |\n",
      "----------\n",
      "\n",
      "----------\n",
      "|clubs   |\n",
      "|K       |\n",
      "|        |\n",
      "|        |\n",
      "----------\n",
      "\n"
     ]
    }
   ],
   "source": [
    "dealer_pot(dealer_1,False)"
   ]
  },
  {
   "cell_type": "code",
   "execution_count": 304,
   "metadata": {},
   "outputs": [],
   "source": [
    "## Player pot function\n",
    "def player_pot(player):\n",
    "    for i in range(0,len(player.hand)):\n",
    "        print('-'*10+\n",
    "             '\\n' +\n",
    "             '|'+player.hand[i][0] + ' '*(8-len(player.hand[i][0]))+'|' +\n",
    "             '\\n' +\n",
    "             '|'+' '.join(player.hand[i][1]) + ' '*(8-len(player.hand[i][1])) +'|' +\n",
    "             '\\n' +\n",
    "             '|'+' '*8+'|' +\n",
    "             '\\n' +\n",
    "             '|'+' '*8+'|' +\n",
    "             '\\n' +\n",
    "             '-'*10)"
   ]
  },
  {
   "cell_type": "code",
   "execution_count": 305,
   "metadata": {},
   "outputs": [
    {
     "name": "stdout",
     "output_type": "stream",
     "text": [
      "----------\n",
      "|spades  |\n",
      "|A       |\n",
      "|        |\n",
      "|        |\n",
      "----------\n",
      "----------\n",
      "|clubs   |\n",
      "|6       |\n",
      "|        |\n",
      "|        |\n",
      "----------\n",
      "----------\n",
      "|hearts  |\n",
      "|A       |\n",
      "|        |\n",
      "|        |\n",
      "----------\n",
      "----------\n",
      "|hearts  |\n",
      "|5       |\n",
      "|        |\n",
      "|        |\n",
      "----------\n"
     ]
    }
   ],
   "source": [
    "player_pot(player_1)"
   ]
  },
  {
   "cell_type": "code",
   "execution_count": 313,
   "metadata": {},
   "outputs": [
    {
     "name": "stdout",
     "output_type": "stream",
     "text": [
      "dealer hands:\n",
      "----------\n",
      "|spades  |\n",
      "|7       |\n",
      "|        |\n",
      "|        |\n",
      "----------\n",
      "----------\n",
      "|clubs   |\n",
      "|K       |\n",
      "|        |\n",
      "|        |\n",
      "----------\n",
      "------------------------------\n",
      "player hands:\n",
      "\n",
      "----------\n",
      "|spades  |\n",
      "|A       |\n",
      "|        |\n",
      "|        |\n",
      "----------\n",
      "----------\n",
      "|clubs   |\n",
      "|6       |\n",
      "|        |\n",
      "|        |\n",
      "----------\n",
      "----------\n",
      "|hearts  |\n",
      "|A       |\n",
      "|        |\n",
      "|        |\n",
      "----------\n",
      "----------\n",
      "|hearts  |\n",
      "|5       |\n",
      "|        |\n",
      "|        |\n",
      "----------\n"
     ]
    }
   ],
   "source": [
    "from IPython.display import clear_output\n",
    "print_pot(dealer_1,player_1,reveal=True)"
   ]
  },
  {
   "cell_type": "code",
   "execution_count": null,
   "metadata": {},
   "outputs": [],
   "source": []
  },
  {
   "cell_type": "code",
   "execution_count": null,
   "metadata": {},
   "outputs": [],
   "source": []
  }
 ],
 "metadata": {
  "kernelspec": {
   "display_name": "Python 3",
   "language": "python",
   "name": "python3"
  },
  "language_info": {
   "codemirror_mode": {
    "name": "ipython",
    "version": 3
   },
   "file_extension": ".py",
   "mimetype": "text/x-python",
   "name": "python",
   "nbconvert_exporter": "python",
   "pygments_lexer": "ipython3",
   "version": "3.6.4"
  }
 },
 "nbformat": 4,
 "nbformat_minor": 2
}
