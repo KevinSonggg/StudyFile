{
 "cells": [
  {
   "cell_type": "code",
   "execution_count": 1,
   "metadata": {},
   "outputs": [],
   "source": [
    "from random import shuffle"
   ]
  },
  {
   "cell_type": "code",
   "execution_count": 20,
   "metadata": {},
   "outputs": [],
   "source": [
    "x = [i for i in range(10)]\n",
    "y = [i for i in range(10)]"
   ]
  },
  {
   "cell_type": "code",
   "execution_count": 23,
   "metadata": {},
   "outputs": [
    {
     "data": {
      "text/plain": [
       "[2, 8, 1, 0, 9, 4, 3, 7, 6, 5]"
      ]
     },
     "execution_count": 23,
     "metadata": {},
     "output_type": "execute_result"
    }
   ],
   "source": [
    "shuffle(x)\n",
    "x"
   ]
  },
  {
   "cell_type": "code",
   "execution_count": 24,
   "metadata": {},
   "outputs": [
    {
     "data": {
      "text/plain": [
       "[(2, 0),\n",
       " (8, 1),\n",
       " (1, 2),\n",
       " (0, 3),\n",
       " (9, 4),\n",
       " (4, 5),\n",
       " (3, 6),\n",
       " (7, 7),\n",
       " (6, 8),\n",
       " (5, 9)]"
      ]
     },
     "execution_count": 24,
     "metadata": {},
     "output_type": "execute_result"
    }
   ],
   "source": [
    "list(zip(x,y))"
   ]
  },
  {
   "cell_type": "code",
   "execution_count": 33,
   "metadata": {},
   "outputs": [],
   "source": [
    "## Create card\n",
    "color = ['diamonds']*13 + ['clubs']*13 + ['hearst']*13 + ['spades']*13\n",
    "number = ['A','2','3','4','5','6','7','8','9','10','J','Q','K']*4"
   ]
  },
  {
   "cell_type": "code",
   "execution_count": 10,
   "metadata": {},
   "outputs": [],
   "source": [
    "## Create card & shuffle card\n",
    "class card():\n",
    "    color = ['diamonds']*13 + ['clubs']*13 + ['hearst']*13 + ['spades']*13\n",
    "    number = ['A','2','3','4','5','6','7','8','9','10','J','Q','K']*4\n",
    "    \n",
    "    def __init__(self):\n",
    "        self.all_card=list(zip(self.color,self.number))\n",
    "    \n",
    "    def shuffle_card(self):\n",
    "        shuffle(self.all_card)\n",
    "    \n",
    "    def pop_card(self): ## pop out card send to player/dealer's hand\n",
    "        return self.all_card.pop(0) ## pop out the 1st card\n",
    "        ## a good thing about this function is that it returns value of card being poped out, so that we can assign that value to player/dealer's hand"
   ]
  },
  {
   "cell_type": "code",
   "execution_count": 127,
   "metadata": {},
   "outputs": [],
   "source": [
    "## player class\n",
    "class player():\n",
    "    \n",
    "    def __init__(self,balance = 5000,hand=[],score=[0,0],twanty_one=False,bj=False):\n",
    "        self.balance = balance\n",
    "        self.hand = hand   ## need to clear at beginning of game\n",
    "        self.score = score ## need to clear at beginning of game\n",
    "        self.twanty_one = twanty_one ## need to clear at beginning of game\n",
    "        self.bj = bj ## need to clear at beginning of game\n",
    "    \n",
    "    def bet(self): ## player choose to bet \n",
    "        bet_amt = bet_func(self.balance)\n",
    "        self.balance -= bet_amt\n",
    "        return bet_amt"
   ]
  },
  {
   "cell_type": "code",
   "execution_count": 322,
   "metadata": {},
   "outputs": [],
   "source": [
    "## Bet function\n",
    "def bet_func(player): ## player.balance\n",
    "    while True:\n",
    "        bet = int(input(f'You have {player.balance} in your balance, How much do you want to bet? '))\n",
    "        if bet > player.balance:\n",
    "            print('Balance insufficient')\n",
    "            continue\n",
    "        else:\n",
    "            player.balance -= bet\n",
    "            break\n",
    "    return bet"
   ]
  },
  {
   "cell_type": "code",
   "execution_count": 4,
   "metadata": {},
   "outputs": [],
   "source": [
    "## dealer class\n",
    "class dealer():\n",
    "    \n",
    "    def __init__(self,hand=[],score=[0,0],bj=False):\n",
    "        self.hand = hand   ## need to clear at beginning of game \n",
    "        self.score = score ## need to clear at beginning of game\n",
    "        self.bj = bj ## need to clear at beginning of game"
   ]
  },
  {
   "cell_type": "code",
   "execution_count": null,
   "metadata": {},
   "outputs": [],
   "source": [
    "## hit function\n",
    "def hit_card(card):\n",
    "    return input('Hit or Stand?').lower() == 'hit':"
   ]
  },
  {
   "cell_type": "code",
   "execution_count": 315,
   "metadata": {},
   "outputs": [],
   "source": [
    "## calculate score\n",
    "def score_check(side):\n",
    "    score = [0,0]\n",
    "    for i in side.hand:\n",
    "        if max(score[0],score[1]) >= 11: ## if score in hand larger than 11, all upcoming Aces can only be treat as 1\n",
    "            score[0] += min(translate_score(i[1])[0],translate_score(i[1])[1]) ## translate_score is a self_defined function\n",
    "            score[1] += min(translate_score(i[1])[0],translate_score(i[1])[1])\n",
    "        else:\n",
    "            score[0] += translate_score(i[1])[0]\n",
    "            score[1] += translate_score(i[1])[1]\n",
    "    side.score = score\n",
    "        "
   ]
  },
  {
   "cell_type": "code",
   "execution_count": 209,
   "metadata": {},
   "outputs": [],
   "source": [
    "## translate function\n",
    "def translate_score(str_score):\n",
    "    if str_score in ['J','Q','K']:\n",
    "        return [10,10]\n",
    "    elif str_score in ['2','3','4','5','6','7','8','9','10']:\n",
    "        return [int(str_score),int(str_score)]\n",
    "    elif str_score == 'A':\n",
    "        return [1,11]\n",
    "    else:\n",
    "        return [0,0]"
   ]
  },
  {
   "cell_type": "code",
   "execution_count": 210,
   "metadata": {},
   "outputs": [],
   "source": [
    "## check bust\n",
    "def bust_check(side):\n",
    "    return min(side.score[0],side.score[1]) > 21 ## True / False bust\n",
    "        "
   ]
  },
  {
   "cell_type": "code",
   "execution_count": 212,
   "metadata": {},
   "outputs": [],
   "source": [
    "## check 21\n",
    "def twanty_one_check(side):\n",
    "    return side.score[0] == 21 or side.score[1] == 21 ##True / False 21"
   ]
  },
  {
   "cell_type": "code",
   "execution_count": 213,
   "metadata": {},
   "outputs": [],
   "source": [
    "## check black jack\n",
    "def bj_check(side):\n",
    "    return side.twanty_one == True and len(side.hand) == 2 ## black jack is reach 21 in first 2 cards "
   ]
  },
  {
   "cell_type": "code",
   "execution_count": 214,
   "metadata": {},
   "outputs": [],
   "source": [
    "## check win\n",
    "def win_check(player,dealer):\n",
    "    if dealer.bj == True:\n",
    "        return True\n",
    "    elif max(dealer.score[0],dealer.score[1]) >= max(player.score[0],player.score[1]):\n",
    "        return True\n",
    "    else:\n",
    "        return False"
   ]
  },
  {
   "cell_type": "code",
   "execution_count": 215,
   "metadata": {},
   "outputs": [
    {
     "ename": "SyntaxError",
     "evalue": "unexpected EOF while parsing (<ipython-input-215-b5fa23736b7b>, line 3)",
     "output_type": "error",
     "traceback": [
      "\u001b[0;36m  File \u001b[0;32m\"<ipython-input-215-b5fa23736b7b>\"\u001b[0;36m, line \u001b[0;32m3\u001b[0m\n\u001b[0;31m    \u001b[0m\n\u001b[0m    ^\u001b[0m\n\u001b[0;31mSyntaxError\u001b[0m\u001b[0;31m:\u001b[0m unexpected EOF while parsing\n"
     ]
    }
   ],
   "source": [
    "## print the pot\n",
    "def print_pot(player,dealer):\n",
    "    "
   ]
  },
  {
   "cell_type": "code",
   "execution_count": 306,
   "metadata": {},
   "outputs": [],
   "source": [
    "def print_pot(dealer,player,reveal=False):\n",
    "    \n",
    "    clear_output() ## clear output\n",
    "    \n",
    "    print('dealer hands:') ## dealer hand\n",
    "    dealer_pot(dealer,reveal)\n",
    "\n",
    "    print('-'*30 +\n",
    "         '\\n' + \n",
    "         'player hands:'\n",
    "         '\\n')\n",
    "    \n",
    "    player_pot(player) ## player hand"
   ]
  },
  {
   "cell_type": "code",
   "execution_count": 276,
   "metadata": {},
   "outputs": [],
   "source": [
    "dealer_1 = dealer()"
   ]
  },
  {
   "cell_type": "code",
   "execution_count": 277,
   "metadata": {},
   "outputs": [],
   "source": [
    "dealer_1.hand = [('spades','7'),('clubs','K')]"
   ]
  },
  {
   "cell_type": "code",
   "execution_count": 280,
   "metadata": {},
   "outputs": [
    {
     "data": {
      "text/plain": [
       "2"
      ]
     },
     "execution_count": 280,
     "metadata": {},
     "output_type": "execute_result"
    }
   ],
   "source": [
    "len(dealer_1.hand)"
   ]
  },
  {
   "cell_type": "code",
   "execution_count": 312,
   "metadata": {},
   "outputs": [],
   "source": [
    "## dealer_pot function\n",
    "def dealer_pot(dealer,reveal):\n",
    "    if reveal == False:\n",
    "                print('-'*10+\n",
    "                     '\\n' +\n",
    "                     '|'+ ' '*8+'|' +\n",
    "                     '\\n' +\n",
    "                     '|' + 'Hidden' + ' ' * 2 +'|' +\n",
    "                     '\\n' +\n",
    "                     '|'+' '*8+'|' +\n",
    "                     '\\n' +\n",
    "                     '|'+' '*8+'|' +\n",
    "                     '\\n' +\n",
    "                     '-'*10 +\n",
    "                     '\\n' +\n",
    "                     '-'*10+ \n",
    "                     '\\n' +\n",
    "                     '|'+dealer_1.hand[1][0] + ' '*(8-len(dealer_1.hand[1][0]))+'|' +\n",
    "                     '\\n' +\n",
    "                     '|'+' '.join(dealer_1.hand[1][1]) + ' '*(8-len(dealer_1.hand[1][1])) +'|' +\n",
    "                     '\\n' +\n",
    "                     '|'+' '*8+'|' +\n",
    "                     '\\n' +\n",
    "                     '|'+' '*8+'|' +\n",
    "                     '\\n' +\n",
    "                     '-'*10 +\n",
    "                     '\\n')\n",
    "    else:\n",
    "        for i in range(0,len(dealer_1.hand)):\n",
    "            print('-'*10+\n",
    "                 '\\n' +\n",
    "                 '|'+dealer_1.hand[i][0] + ' '*(8-len(dealer_1.hand[i][0]))+'|' +\n",
    "                 '\\n' +\n",
    "                 '|'+' '.join(dealer_1.hand[i][1]) + ' '*(8-len(dealer_1.hand[i][1])) +'|' +\n",
    "                 '\\n' +\n",
    "                 '|'+' '*8+'|' +\n",
    "                 '\\n' +\n",
    "                 '|'+' '*8+'|' +\n",
    "                 '\\n' +\n",
    "                 '-'*10)"
   ]
  },
  {
   "cell_type": "code",
   "execution_count": 303,
   "metadata": {},
   "outputs": [
    {
     "name": "stdout",
     "output_type": "stream",
     "text": [
      "----------\n",
      "|        |\n",
      "|Hidden  |\n",
      "|        |\n",
      "|        |\n",
      "----------\n",
      "\n",
      "----------\n",
      "|clubs   |\n",
      "|K       |\n",
      "|        |\n",
      "|        |\n",
      "----------\n",
      "\n"
     ]
    }
   ],
   "source": [
    "dealer_pot(dealer_1,False)"
   ]
  },
  {
   "cell_type": "code",
   "execution_count": 304,
   "metadata": {},
   "outputs": [],
   "source": [
    "## Player pot function\n",
    "def player_pot(player):\n",
    "    for i in range(0,len(player.hand)):\n",
    "        print('-'*10+\n",
    "             '\\n' +\n",
    "             '|'+player.hand[i][0] + ' '*(8-len(player.hand[i][0]))+'|' +\n",
    "             '\\n' +\n",
    "             '|'+' '.join(player.hand[i][1]) + ' '*(8-len(player.hand[i][1])) +'|' +\n",
    "             '\\n' +\n",
    "             '|'+' '*8+'|' +\n",
    "             '\\n' +\n",
    "             '|'+' '*8+'|' +\n",
    "             '\\n' +\n",
    "             '-'*10)"
   ]
  },
  {
   "cell_type": "code",
   "execution_count": 305,
   "metadata": {},
   "outputs": [
    {
     "name": "stdout",
     "output_type": "stream",
     "text": [
      "----------\n",
      "|spades  |\n",
      "|A       |\n",
      "|        |\n",
      "|        |\n",
      "----------\n",
      "----------\n",
      "|clubs   |\n",
      "|6       |\n",
      "|        |\n",
      "|        |\n",
      "----------\n",
      "----------\n",
      "|hearts  |\n",
      "|A       |\n",
      "|        |\n",
      "|        |\n",
      "----------\n",
      "----------\n",
      "|hearts  |\n",
      "|5       |\n",
      "|        |\n",
      "|        |\n",
      "----------\n"
     ]
    }
   ],
   "source": [
    "player_pot(player_1)"
   ]
  },
  {
   "cell_type": "code",
   "execution_count": 313,
   "metadata": {},
   "outputs": [
    {
     "name": "stdout",
     "output_type": "stream",
     "text": [
      "dealer hands:\n",
      "----------\n",
      "|spades  |\n",
      "|7       |\n",
      "|        |\n",
      "|        |\n",
      "----------\n",
      "----------\n",
      "|clubs   |\n",
      "|K       |\n",
      "|        |\n",
      "|        |\n",
      "----------\n",
      "------------------------------\n",
      "player hands:\n",
      "\n",
      "----------\n",
      "|spades  |\n",
      "|A       |\n",
      "|        |\n",
      "|        |\n",
      "----------\n",
      "----------\n",
      "|clubs   |\n",
      "|6       |\n",
      "|        |\n",
      "|        |\n",
      "----------\n",
      "----------\n",
      "|hearts  |\n",
      "|A       |\n",
      "|        |\n",
      "|        |\n",
      "----------\n",
      "----------\n",
      "|hearts  |\n",
      "|5       |\n",
      "|        |\n",
      "|        |\n",
      "----------\n"
     ]
    }
   ],
   "source": [
    "from IPython.display import clear_output\n",
    "\n",
    "print_pot(dealer_1,player_1,reveal=False)"
   ]
  },
  {
   "cell_type": "code",
   "execution_count": 316,
   "metadata": {},
   "outputs": [],
   "source": [
    "score_check(dealer_1)"
   ]
  },
  {
   "cell_type": "code",
   "execution_count": 317,
   "metadata": {},
   "outputs": [
    {
     "data": {
      "text/plain": [
       "[17, 17]"
      ]
     },
     "execution_count": 317,
     "metadata": {},
     "output_type": "execute_result"
    }
   ],
   "source": [
    "dealer_1.score"
   ]
  },
  {
   "cell_type": "code",
   "execution_count": null,
   "metadata": {},
   "outputs": [],
   "source": [
    "input(\"Are you ready to play? Yes/No\").lower() == 'yes'"
   ]
  },
  {
   "cell_type": "code",
   "execution_count": 323,
   "metadata": {},
   "outputs": [
    {
     "ename": "KeyboardInterrupt",
     "evalue": "",
     "output_type": "error",
     "traceback": [
      "\u001b[0;31m---------------------------------------------------------------------------\u001b[0m",
      "\u001b[0;31mKeyboardInterrupt\u001b[0m                         Traceback (most recent call last)",
      "\u001b[0;32m~/anaconda3/lib/python3.6/site-packages/ipykernel/kernelbase.py\u001b[0m in \u001b[0;36m_input_request\u001b[0;34m(self, prompt, ident, parent, password)\u001b[0m\n\u001b[1;32m    728\u001b[0m             \u001b[0;32mtry\u001b[0m\u001b[0;34m:\u001b[0m\u001b[0;34m\u001b[0m\u001b[0m\n\u001b[0;32m--> 729\u001b[0;31m                 \u001b[0mident\u001b[0m\u001b[0;34m,\u001b[0m \u001b[0mreply\u001b[0m \u001b[0;34m=\u001b[0m \u001b[0mself\u001b[0m\u001b[0;34m.\u001b[0m\u001b[0msession\u001b[0m\u001b[0;34m.\u001b[0m\u001b[0mrecv\u001b[0m\u001b[0;34m(\u001b[0m\u001b[0mself\u001b[0m\u001b[0;34m.\u001b[0m\u001b[0mstdin_socket\u001b[0m\u001b[0;34m,\u001b[0m \u001b[0;36m0\u001b[0m\u001b[0;34m)\u001b[0m\u001b[0;34m\u001b[0m\u001b[0m\n\u001b[0m\u001b[1;32m    730\u001b[0m             \u001b[0;32mexcept\u001b[0m \u001b[0mException\u001b[0m\u001b[0;34m:\u001b[0m\u001b[0;34m\u001b[0m\u001b[0m\n",
      "\u001b[0;32m~/anaconda3/lib/python3.6/site-packages/jupyter_client/session.py\u001b[0m in \u001b[0;36mrecv\u001b[0;34m(self, socket, mode, content, copy)\u001b[0m\n\u001b[1;32m    802\u001b[0m         \u001b[0;32mtry\u001b[0m\u001b[0;34m:\u001b[0m\u001b[0;34m\u001b[0m\u001b[0m\n\u001b[0;32m--> 803\u001b[0;31m             \u001b[0mmsg_list\u001b[0m \u001b[0;34m=\u001b[0m \u001b[0msocket\u001b[0m\u001b[0;34m.\u001b[0m\u001b[0mrecv_multipart\u001b[0m\u001b[0;34m(\u001b[0m\u001b[0mmode\u001b[0m\u001b[0;34m,\u001b[0m \u001b[0mcopy\u001b[0m\u001b[0;34m=\u001b[0m\u001b[0mcopy\u001b[0m\u001b[0;34m)\u001b[0m\u001b[0;34m\u001b[0m\u001b[0m\n\u001b[0m\u001b[1;32m    804\u001b[0m         \u001b[0;32mexcept\u001b[0m \u001b[0mzmq\u001b[0m\u001b[0;34m.\u001b[0m\u001b[0mZMQError\u001b[0m \u001b[0;32mas\u001b[0m \u001b[0me\u001b[0m\u001b[0;34m:\u001b[0m\u001b[0;34m\u001b[0m\u001b[0m\n",
      "\u001b[0;32m~/anaconda3/lib/python3.6/site-packages/zmq/sugar/socket.py\u001b[0m in \u001b[0;36mrecv_multipart\u001b[0;34m(self, flags, copy, track)\u001b[0m\n\u001b[1;32m    394\u001b[0m         \"\"\"\n\u001b[0;32m--> 395\u001b[0;31m         \u001b[0mparts\u001b[0m \u001b[0;34m=\u001b[0m \u001b[0;34m[\u001b[0m\u001b[0mself\u001b[0m\u001b[0;34m.\u001b[0m\u001b[0mrecv\u001b[0m\u001b[0;34m(\u001b[0m\u001b[0mflags\u001b[0m\u001b[0;34m,\u001b[0m \u001b[0mcopy\u001b[0m\u001b[0;34m=\u001b[0m\u001b[0mcopy\u001b[0m\u001b[0;34m,\u001b[0m \u001b[0mtrack\u001b[0m\u001b[0;34m=\u001b[0m\u001b[0mtrack\u001b[0m\u001b[0;34m)\u001b[0m\u001b[0;34m]\u001b[0m\u001b[0;34m\u001b[0m\u001b[0m\n\u001b[0m\u001b[1;32m    396\u001b[0m         \u001b[0;31m# have first part already, only loop while more to receive\u001b[0m\u001b[0;34m\u001b[0m\u001b[0;34m\u001b[0m\u001b[0m\n",
      "\u001b[0;32mzmq/backend/cython/socket.pyx\u001b[0m in \u001b[0;36mzmq.backend.cython.socket.Socket.recv\u001b[0;34m()\u001b[0m\n",
      "\u001b[0;32mzmq/backend/cython/socket.pyx\u001b[0m in \u001b[0;36mzmq.backend.cython.socket.Socket.recv\u001b[0;34m()\u001b[0m\n",
      "\u001b[0;32mzmq/backend/cython/socket.pyx\u001b[0m in \u001b[0;36mzmq.backend.cython.socket._recv_copy\u001b[0;34m()\u001b[0m\n",
      "\u001b[0;32m~/anaconda3/lib/python3.6/site-packages/zmq/backend/cython/checkrc.pxd\u001b[0m in \u001b[0;36mzmq.backend.cython.checkrc._check_rc\u001b[0;34m()\u001b[0m\n",
      "\u001b[0;31mKeyboardInterrupt\u001b[0m: ",
      "\nDuring handling of the above exception, another exception occurred:\n",
      "\u001b[0;31mKeyboardInterrupt\u001b[0m                         Traceback (most recent call last)",
      "\u001b[0;32m<ipython-input-323-7a1ab9f65601>\u001b[0m in \u001b[0;36m<module>\u001b[0;34m()\u001b[0m\n\u001b[0;32m----> 1\u001b[0;31m \u001b[0mbet_func\u001b[0m\u001b[0;34m(\u001b[0m\u001b[0mplayer_1\u001b[0m\u001b[0;34m)\u001b[0m\u001b[0;34m\u001b[0m\u001b[0m\n\u001b[0m",
      "\u001b[0;32m<ipython-input-322-a2d8b9f537d3>\u001b[0m in \u001b[0;36mbet_func\u001b[0;34m(player)\u001b[0m\n\u001b[1;32m      2\u001b[0m \u001b[0;32mdef\u001b[0m \u001b[0mbet_func\u001b[0m\u001b[0;34m(\u001b[0m\u001b[0mplayer\u001b[0m\u001b[0;34m)\u001b[0m\u001b[0;34m:\u001b[0m \u001b[0;31m## player.balance\u001b[0m\u001b[0;34m\u001b[0m\u001b[0m\n\u001b[1;32m      3\u001b[0m     \u001b[0;32mwhile\u001b[0m \u001b[0;32mTrue\u001b[0m\u001b[0;34m:\u001b[0m\u001b[0;34m\u001b[0m\u001b[0m\n\u001b[0;32m----> 4\u001b[0;31m         \u001b[0mbet\u001b[0m \u001b[0;34m=\u001b[0m \u001b[0mint\u001b[0m\u001b[0;34m(\u001b[0m\u001b[0minput\u001b[0m\u001b[0;34m(\u001b[0m\u001b[0;34mf'You have {player.balance} in your balance, How much do you want to bet? '\u001b[0m\u001b[0;34m)\u001b[0m\u001b[0;34m)\u001b[0m\u001b[0;34m\u001b[0m\u001b[0m\n\u001b[0m\u001b[1;32m      5\u001b[0m         \u001b[0;32mif\u001b[0m \u001b[0mbet\u001b[0m \u001b[0;34m>\u001b[0m \u001b[0mplayer\u001b[0m\u001b[0;34m.\u001b[0m\u001b[0mbalance\u001b[0m\u001b[0;34m:\u001b[0m\u001b[0;34m\u001b[0m\u001b[0m\n\u001b[1;32m      6\u001b[0m             \u001b[0mprint\u001b[0m\u001b[0;34m(\u001b[0m\u001b[0;34m'Balance insufficient'\u001b[0m\u001b[0;34m)\u001b[0m\u001b[0;34m\u001b[0m\u001b[0m\n",
      "\u001b[0;32m~/anaconda3/lib/python3.6/site-packages/ipykernel/kernelbase.py\u001b[0m in \u001b[0;36mraw_input\u001b[0;34m(self, prompt)\u001b[0m\n\u001b[1;32m    702\u001b[0m             \u001b[0mself\u001b[0m\u001b[0;34m.\u001b[0m\u001b[0m_parent_ident\u001b[0m\u001b[0;34m,\u001b[0m\u001b[0;34m\u001b[0m\u001b[0m\n\u001b[1;32m    703\u001b[0m             \u001b[0mself\u001b[0m\u001b[0;34m.\u001b[0m\u001b[0m_parent_header\u001b[0m\u001b[0;34m,\u001b[0m\u001b[0;34m\u001b[0m\u001b[0m\n\u001b[0;32m--> 704\u001b[0;31m             \u001b[0mpassword\u001b[0m\u001b[0;34m=\u001b[0m\u001b[0;32mFalse\u001b[0m\u001b[0;34m,\u001b[0m\u001b[0;34m\u001b[0m\u001b[0m\n\u001b[0m\u001b[1;32m    705\u001b[0m         )\n\u001b[1;32m    706\u001b[0m \u001b[0;34m\u001b[0m\u001b[0m\n",
      "\u001b[0;32m~/anaconda3/lib/python3.6/site-packages/ipykernel/kernelbase.py\u001b[0m in \u001b[0;36m_input_request\u001b[0;34m(self, prompt, ident, parent, password)\u001b[0m\n\u001b[1;32m    732\u001b[0m             \u001b[0;32mexcept\u001b[0m \u001b[0mKeyboardInterrupt\u001b[0m\u001b[0;34m:\u001b[0m\u001b[0;34m\u001b[0m\u001b[0m\n\u001b[1;32m    733\u001b[0m                 \u001b[0;31m# re-raise KeyboardInterrupt, to truncate traceback\u001b[0m\u001b[0;34m\u001b[0m\u001b[0;34m\u001b[0m\u001b[0m\n\u001b[0;32m--> 734\u001b[0;31m                 \u001b[0;32mraise\u001b[0m \u001b[0mKeyboardInterrupt\u001b[0m\u001b[0;34m\u001b[0m\u001b[0m\n\u001b[0m\u001b[1;32m    735\u001b[0m             \u001b[0;32melse\u001b[0m\u001b[0;34m:\u001b[0m\u001b[0;34m\u001b[0m\u001b[0m\n\u001b[1;32m    736\u001b[0m                 \u001b[0;32mbreak\u001b[0m\u001b[0;34m\u001b[0m\u001b[0m\n",
      "\u001b[0;31mKeyboardInterrupt\u001b[0m: "
     ]
    }
   ],
   "source": [
    "bet_func(player_1)"
   ]
  },
  {
   "cell_type": "raw",
   "metadata": {},
   "source": [
    "dealer_1 = dealer()"
   ]
  },
  {
   "cell_type": "code",
   "execution_count": 1,
   "metadata": {},
   "outputs": [
    {
     "ename": "NameError",
     "evalue": "name 'dealer_1' is not defined",
     "output_type": "error",
     "traceback": [
      "\u001b[0;31m---------------------------------------------------------------------------\u001b[0m",
      "\u001b[0;31mNameError\u001b[0m                                 Traceback (most recent call last)",
      "\u001b[0;32m<ipython-input-1-40bfdf62e679>\u001b[0m in \u001b[0;36m<module>\u001b[0;34m()\u001b[0m\n\u001b[0;32m----> 1\u001b[0;31m \u001b[0mdealer_1\u001b[0m\u001b[0;34m\u001b[0m\u001b[0m\n\u001b[0m",
      "\u001b[0;31mNameError\u001b[0m: name 'dealer_1' is not defined"
     ]
    }
   ],
   "source": [
    "dealer_1"
   ]
  },
  {
   "cell_type": "code",
   "execution_count": 5,
   "metadata": {},
   "outputs": [],
   "source": [
    "dealer_1 = dealer()"
   ]
  },
  {
   "cell_type": "code",
   "execution_count": 13,
   "metadata": {},
   "outputs": [],
   "source": [
    "dealer_1.hand.append(card.pop_card())"
   ]
  },
  {
   "cell_type": "code",
   "execution_count": 14,
   "metadata": {},
   "outputs": [
    {
     "data": {
      "text/plain": [
       "[['hearts', 'K'], ('diamonds', 'A')]"
      ]
     },
     "execution_count": 14,
     "metadata": {},
     "output_type": "execute_result"
    }
   ],
   "source": [
    "dealer_1.hand"
   ]
  },
  {
   "cell_type": "code",
   "execution_count": 11,
   "metadata": {},
   "outputs": [],
   "source": [
    "card = card()"
   ]
  },
  {
   "cell_type": "code",
   "execution_count": 12,
   "metadata": {},
   "outputs": [
    {
     "data": {
      "text/plain": [
       "[('diamonds', 'A'),\n",
       " ('diamonds', '2'),\n",
       " ('diamonds', '3'),\n",
       " ('diamonds', '4'),\n",
       " ('diamonds', '5'),\n",
       " ('diamonds', '6'),\n",
       " ('diamonds', '7'),\n",
       " ('diamonds', '8'),\n",
       " ('diamonds', '9'),\n",
       " ('diamonds', '10'),\n",
       " ('diamonds', 'J'),\n",
       " ('diamonds', 'Q'),\n",
       " ('diamonds', 'K'),\n",
       " ('clubs', 'A'),\n",
       " ('clubs', '2'),\n",
       " ('clubs', '3'),\n",
       " ('clubs', '4'),\n",
       " ('clubs', '5'),\n",
       " ('clubs', '6'),\n",
       " ('clubs', '7'),\n",
       " ('clubs', '8'),\n",
       " ('clubs', '9'),\n",
       " ('clubs', '10'),\n",
       " ('clubs', 'J'),\n",
       " ('clubs', 'Q'),\n",
       " ('clubs', 'K'),\n",
       " ('hearst', 'A'),\n",
       " ('hearst', '2'),\n",
       " ('hearst', '3'),\n",
       " ('hearst', '4'),\n",
       " ('hearst', '5'),\n",
       " ('hearst', '6'),\n",
       " ('hearst', '7'),\n",
       " ('hearst', '8'),\n",
       " ('hearst', '9'),\n",
       " ('hearst', '10'),\n",
       " ('hearst', 'J'),\n",
       " ('hearst', 'Q'),\n",
       " ('hearst', 'K'),\n",
       " ('spades', 'A'),\n",
       " ('spades', '2'),\n",
       " ('spades', '3'),\n",
       " ('spades', '4'),\n",
       " ('spades', '5'),\n",
       " ('spades', '6'),\n",
       " ('spades', '7'),\n",
       " ('spades', '8'),\n",
       " ('spades', '9'),\n",
       " ('spades', '10'),\n",
       " ('spades', 'J'),\n",
       " ('spades', 'Q'),\n",
       " ('spades', 'K')]"
      ]
     },
     "execution_count": 12,
     "metadata": {},
     "output_type": "execute_result"
    }
   ],
   "source": [
    "card.all_card"
   ]
  },
  {
   "cell_type": "code",
   "execution_count": null,
   "metadata": {},
   "outputs": [],
   "source": []
  }
 ],
 "metadata": {
  "kernelspec": {
   "display_name": "Python 3",
   "language": "python",
   "name": "python3"
  },
  "language_info": {
   "codemirror_mode": {
    "name": "ipython",
    "version": 3
   },
   "file_extension": ".py",
   "mimetype": "text/x-python",
   "name": "python",
   "nbconvert_exporter": "python",
   "pygments_lexer": "ipython3",
   "version": "3.6.4"
  }
 },
 "nbformat": 4,
 "nbformat_minor": 2
}
