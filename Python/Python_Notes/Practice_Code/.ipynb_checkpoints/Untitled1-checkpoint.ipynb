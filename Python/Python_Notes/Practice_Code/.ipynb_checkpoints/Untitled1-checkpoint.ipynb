{
 "cells": [
  {
   "cell_type": "code",
   "execution_count": null,
   "metadata": {},
   "outputs": [],
   "source": [
    "class card():\n",
    "    color = ['diamonds']*13 + ['clubs']*13 + ['hearst']*13 + ['spades']*13\n",
    "    number = ['A','2','3','4','5','6','7','8','9','10','J','Q','K']*4\n",
    "    \n",
    "    def __init__(self):\n",
    "        self.all_card=list(zip(self.color,self.number))\n",
    "    \n",
    "    def shuffle_card(self):\n",
    "        shuffle(self.all_card)\n",
    "    \n",
    "    def pop_card(self): ## pop out card send to player/dealer's hand\n",
    "        return self.all_card.pop(0) ## pop out the 1st card\n",
    "        ## a good thing about this function is that it returns value of card being poped out, so that we can assign that value to player/dealer's hand\n"
   ]
  }
 ],
 "metadata": {
  "kernelspec": {
   "display_name": "Python 3",
   "language": "python",
   "name": "python3"
  },
  "language_info": {
   "codemirror_mode": {
    "name": "ipython",
    "version": 3
   },
   "file_extension": ".py",
   "mimetype": "text/x-python",
   "name": "python",
   "nbconvert_exporter": "python",
   "pygments_lexer": "ipython3",
   "version": "3.6.4"
  }
 },
 "nbformat": 4,
 "nbformat_minor": 2
}
